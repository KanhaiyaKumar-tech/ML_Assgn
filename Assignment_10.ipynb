{
 "cells": [
  {
   "cell_type": "code",
   "execution_count": null,
   "id": "a17290e5",
   "metadata": {},
   "outputs": [],
   "source": []
  },
  {
   "cell_type": "code",
   "execution_count": null,
   "id": "7d989197",
   "metadata": {},
   "outputs": [],
   "source": [
    "1. Define the Bayesian interpretation of probability.\n"
   ]
  },
  {
   "cell_type": "code",
   "execution_count": null,
   "id": "7fb2d1e5",
   "metadata": {},
   "outputs": [],
   "source": [
    "The Bayesian interpretation of probability views probability as a measure of subjective belief or uncertainty. According to this interpretation, probability represents the degree of confidence or belief that an event will occur, based on the available evidence or prior knowledge. It incorporates prior beliefs and updates them in light of new evidence using Bayes' theorem.\n",
    "\n"
   ]
  },
  {
   "cell_type": "code",
   "execution_count": null,
   "id": "80b902f9",
   "metadata": {},
   "outputs": [],
   "source": []
  },
  {
   "cell_type": "code",
   "execution_count": null,
   "id": "3404b792",
   "metadata": {},
   "outputs": [],
   "source": []
  },
  {
   "cell_type": "code",
   "execution_count": null,
   "id": "3f3ff875",
   "metadata": {},
   "outputs": [],
   "source": [
    "\n",
    "2. Define probability of a union of two events with equation.\n"
   ]
  },
  {
   "cell_type": "code",
   "execution_count": null,
   "id": "3d32662a",
   "metadata": {},
   "outputs": [],
   "source": [
    "The probability of the union of two events A and B is given by the equation:\n",
    "P(A ∪ B) = P(A) + P(B) - P(A ∩ B)\n",
    "where P(A) represents the probability of event A, P(B) represents the probability of event B, and P(A ∩ B) represents the probability of the intersection of events A and B.\n",
    "\n"
   ]
  },
  {
   "cell_type": "code",
   "execution_count": null,
   "id": "94f55368",
   "metadata": {},
   "outputs": [],
   "source": []
  },
  {
   "cell_type": "code",
   "execution_count": null,
   "id": "9a221f41",
   "metadata": {},
   "outputs": [],
   "source": [
    "3. What is joint probability? What is its formula?\n"
   ]
  },
  {
   "cell_type": "code",
   "execution_count": null,
   "id": "1d7fdfda",
   "metadata": {},
   "outputs": [],
   "source": [
    "Joint probability refers to the probability of two or more events occurring simultaneously. It measures the likelihood of the intersection of multiple events. The joint probability of events A and B is denoted as P(A ∩ B) and is calculated using the formula:\n",
    "P(A ∩ B) = P(A) * P(B|A)\n",
    "where P(A) represents the probability of event A, and P(B|A) represents the conditional probability of event B given that event A has occurred.\n",
    "\n"
   ]
  },
  {
   "cell_type": "code",
   "execution_count": null,
   "id": "2a67f922",
   "metadata": {},
   "outputs": [],
   "source": []
  },
  {
   "cell_type": "code",
   "execution_count": null,
   "id": "ee2269b3",
   "metadata": {},
   "outputs": [],
   "source": [
    "4. What is chain rule of probability?\n"
   ]
  },
  {
   "cell_type": "code",
   "execution_count": null,
   "id": "5fbc57d3",
   "metadata": {},
   "outputs": [],
   "source": [
    "The chain rule of probability allows us to express the joint probability of multiple events in terms of conditional probabilities. It states that the joint probability of n events can be calculated by multiplying the conditional probabilities of each event given the occurrence of the previous events. Mathematically, the chain rule of probability is expressed as:\n",
    "P(A₁, A₂, ..., Aₙ) = P(A₁) * P(A₂|A₁) * P(A₃|A₁, A₂) * ... * P(Aₙ|A₁, A₂, ..., Aₙ₋₁)\n",
    "\n"
   ]
  },
  {
   "cell_type": "code",
   "execution_count": null,
   "id": "351cec87",
   "metadata": {},
   "outputs": [],
   "source": []
  },
  {
   "cell_type": "code",
   "execution_count": null,
   "id": "c80e4c24",
   "metadata": {},
   "outputs": [],
   "source": [
    "5. What is conditional probability means? What is the formula of it?\n"
   ]
  },
  {
   "cell_type": "code",
   "execution_count": null,
   "id": "cfdbcd2b",
   "metadata": {},
   "outputs": [],
   "source": [
    "Conditional probability refers to the probability of an event occurring given that another event has already occurred. It measures the likelihood of an event under a specific condition. The conditional probability of event B given event A is denoted as P(B|A) and is calculated using the formula:\n",
    "P(B|A) = P(A ∩ B) / P(A)\n",
    "where P(A ∩ B) represents the joint probability of events A and B, and P(A) represents the probability of event A.\n",
    "\n"
   ]
  },
  {
   "cell_type": "code",
   "execution_count": null,
   "id": "9a490e27",
   "metadata": {},
   "outputs": [],
   "source": []
  },
  {
   "cell_type": "code",
   "execution_count": null,
   "id": "6bc0f5d2",
   "metadata": {},
   "outputs": [],
   "source": [
    "6. What are continuous random variables?\n"
   ]
  },
  {
   "cell_type": "code",
   "execution_count": null,
   "id": "558f5bbd",
   "metadata": {},
   "outputs": [],
   "source": [
    "Continuous random variables are variables that can take any value within a specified range or interval. They are characterized by an infinite number of possible outcomes within the range. Examples of continuous random variables include measurements such as height, weight, temperature, or time. The probability distribution of continuous random variables is described by probability density functions (PDFs) instead of probability mass functions (PMFs).\n"
   ]
  },
  {
   "cell_type": "code",
   "execution_count": null,
   "id": "5f5842df",
   "metadata": {},
   "outputs": [],
   "source": []
  },
  {
   "cell_type": "code",
   "execution_count": null,
   "id": "7c1a43a9",
   "metadata": {},
   "outputs": [],
   "source": [
    "7. What are Bernoulli distributions? What is the formula of it?\n"
   ]
  },
  {
   "cell_type": "code",
   "execution_count": null,
   "id": "f1633a8f",
   "metadata": {},
   "outputs": [],
   "source": [
    "Bernoulli distributions are discrete probability distributions that model a single binary outcome with two possible outcomes: success (usually denoted as 1) or failure (usually denoted as 0). The probability of success, denoted as p, is a fixed parameter. The probability mass function (PMF) of a Bernoulli distribution is given by:\n",
    "P(X = k) = p^k * (1 - p)^(1 - k)\n",
    "where X is the random variable representing the outcome, k can take values 0 or 1, and p is the probability of success.\n",
    "\n",
    "\n"
   ]
  },
  {
   "cell_type": "code",
   "execution_count": null,
   "id": "941a8096",
   "metadata": {},
   "outputs": [],
   "source": []
  },
  {
   "cell_type": "code",
   "execution_count": null,
   "id": "6cda694e",
   "metadata": {},
   "outputs": [],
   "source": [
    "8. What is binomial distribution? What is the formula?"
   ]
  },
  {
   "cell_type": "code",
   "execution_count": null,
   "id": "fab7837d",
   "metadata": {},
   "outputs": [],
   "source": [
    "Binomial distribution is a discrete probability distribution that models the number of successes in a fixed number of independent Bernoulli trials. It describes the probability of obtaining a specific number of successes, denoted as k, out of n trials, given a fixed probability of success, denoted as p. The probability mass function (PMF) of a binomial distribution is given by:\n",
    "P(X = k) = (n choose k) * p^k * (1 - p)^(n - k)\n",
    "where X is the random variable representing the number of successes, n is the number of trials, k is the number of successes, p is the probability of success, and (n choose k) represents the binomial coefficient.\n"
   ]
  },
  {
   "cell_type": "code",
   "execution_count": null,
   "id": "d9f9de8d",
   "metadata": {},
   "outputs": [],
   "source": []
  },
  {
   "cell_type": "code",
   "execution_count": null,
   "id": "302f3730",
   "metadata": {},
   "outputs": [],
   "source": [
    "9. What is Poisson distribution? What is the formula?\n"
   ]
  },
  {
   "cell_type": "code",
   "execution_count": null,
   "id": "d34e45b7",
   "metadata": {},
   "outputs": [],
   "source": [
    "Poisson distribution is a discrete probability distribution that models the number of events occurring in a fixed interval of time or space, given the average rate of occurrence, denoted as λ. The probability mass function (PMF) of a Poisson distribution is given by:\n",
    "P(X = k) = (e^(-λ) * λ^k) / k!\n",
    "where X is the random variable representing the number of events, k is the number of events, e is the base of the natural logarithm, and λ is the average rate of occurrence.\n"
   ]
  },
  {
   "cell_type": "code",
   "execution_count": null,
   "id": "1fcc2567",
   "metadata": {},
   "outputs": [],
   "source": []
  },
  {
   "cell_type": "code",
   "execution_count": null,
   "id": "b588078e",
   "metadata": {},
   "outputs": [],
   "source": [
    "10. Define covariance.\n"
   ]
  },
  {
   "cell_type": "code",
   "execution_count": null,
   "id": "c7f76724",
   "metadata": {},
   "outputs": [],
   "source": [
    "Covariance measures the relationship between two random variables. It quantifies the extent to which the variables vary together. A positive covariance indicates a direct relationship, meaning that when one variable increases, the other tends to increase as well. A negative covariance indicates an inverse relationship, where when one variable increases, the other tends to decrease. However, the magnitude of covariance does not indicate the strength or scale of the relationship.\n"
   ]
  },
  {
   "cell_type": "code",
   "execution_count": null,
   "id": "4248aa2b",
   "metadata": {},
   "outputs": [],
   "source": []
  },
  {
   "cell_type": "code",
   "execution_count": null,
   "id": "bd01989a",
   "metadata": {},
   "outputs": [],
   "source": [
    "11. Define correlation\n"
   ]
  },
  {
   "cell_type": "code",
   "execution_count": null,
   "id": "654473d0",
   "metadata": {},
   "outputs": [],
   "source": [
    "Correlation measures the strength and direction of the linear relationship between two random variables. It is a standardized measure that ranges from -1 to 1. A correlation of 1 indicates a perfect positive linear relationship, -1 indicates a perfect negative linear relationship, and 0 indicates no linear relationship. Correlation is not affected by changes in scale or units of the variables and provides a more meaningful measure of the strength of the relationship compared to covariance.\n"
   ]
  },
  {
   "cell_type": "code",
   "execution_count": null,
   "id": "bd868043",
   "metadata": {},
   "outputs": [],
   "source": []
  },
  {
   "cell_type": "code",
   "execution_count": null,
   "id": "7cffeb38",
   "metadata": {},
   "outputs": [],
   "source": []
  },
  {
   "cell_type": "code",
   "execution_count": null,
   "id": "68be6e5c",
   "metadata": {},
   "outputs": [],
   "source": [
    "12. Define sampling with replacement. Give example.\n"
   ]
  },
  {
   "cell_type": "code",
   "execution_count": null,
   "id": "360467c8",
   "metadata": {},
   "outputs": [],
   "source": [
    "Sampling with replacement is a method of sampling where each selected element from a population is returned to the population before the next element is selected. This means that the same element can be selected multiple times in the sample. For example, if we have a bag of colored balls and we randomly select a ball, note its color, return it to the bag, and repeat the process, it represents sampling with replacement.\n"
   ]
  },
  {
   "cell_type": "code",
   "execution_count": null,
   "id": "29ca3a5c",
   "metadata": {},
   "outputs": [],
   "source": []
  },
  {
   "cell_type": "code",
   "execution_count": null,
   "id": "1098e166",
   "metadata": {},
   "outputs": [],
   "source": [
    "13. What is sampling without replacement? Give example.\n"
   ]
  },
  {
   "cell_type": "code",
   "execution_count": null,
   "id": "6d0aebad",
   "metadata": {},
   "outputs": [],
   "source": [
    "Sampling without replacement is a method of sampling where each selected element from a population is not returned to the population before the next element is selected. This means that once an element is selected, it is not available for subsequent selections. For example, if we have a deck of playing cards and we randomly select a card, remove it from the deck, and repeat the process, it represents sampling without replacement.\n"
   ]
  },
  {
   "cell_type": "code",
   "execution_count": null,
   "id": "7d4fae2e",
   "metadata": {},
   "outputs": [],
   "source": []
  },
  {
   "cell_type": "code",
   "execution_count": null,
   "id": "1659b0ff",
   "metadata": {},
   "outputs": [],
   "source": [
    "14. What is hypothesis? Give example."
   ]
  },
  {
   "cell_type": "code",
   "execution_count": null,
   "id": "abf985b6",
   "metadata": {},
   "outputs": [],
   "source": [
    "In statistics, a hypothesis is a proposed explanation or claim about a population or a phenomenon based on available evidence or prior knowledge. It is typically formulated as a statement that can be tested or evaluated using statistical methods. For example, a hypothesis could be that the average height of male adults is greater than the average height of female adults. The hypothesis can be tested using data and statistical tests to determine if there is evidence to support or reject the claim.\n"
   ]
  },
  {
   "cell_type": "code",
   "execution_count": null,
   "id": "df9df2a8",
   "metadata": {},
   "outputs": [],
   "source": []
  },
  {
   "cell_type": "code",
   "execution_count": null,
   "id": "6b84a518",
   "metadata": {},
   "outputs": [],
   "source": []
  },
  {
   "cell_type": "code",
   "execution_count": null,
   "id": "5f8b7f4e",
   "metadata": {},
   "outputs": [],
   "source": []
  },
  {
   "cell_type": "code",
   "execution_count": null,
   "id": "75ee7c70",
   "metadata": {},
   "outputs": [],
   "source": []
  },
  {
   "cell_type": "code",
   "execution_count": null,
   "id": "5d077471",
   "metadata": {},
   "outputs": [],
   "source": []
  },
  {
   "cell_type": "code",
   "execution_count": null,
   "id": "1b37f061",
   "metadata": {},
   "outputs": [],
   "source": []
  },
  {
   "cell_type": "code",
   "execution_count": null,
   "id": "f96996be",
   "metadata": {},
   "outputs": [],
   "source": []
  },
  {
   "cell_type": "code",
   "execution_count": null,
   "id": "eada7cef",
   "metadata": {},
   "outputs": [],
   "source": []
  },
  {
   "cell_type": "code",
   "execution_count": null,
   "id": "909663f8",
   "metadata": {},
   "outputs": [],
   "source": []
  },
  {
   "cell_type": "code",
   "execution_count": null,
   "id": "48eb47ad",
   "metadata": {},
   "outputs": [],
   "source": []
  },
  {
   "cell_type": "code",
   "execution_count": null,
   "id": "3bc39dfe",
   "metadata": {},
   "outputs": [],
   "source": []
  },
  {
   "cell_type": "code",
   "execution_count": null,
   "id": "0f893391",
   "metadata": {},
   "outputs": [],
   "source": []
  },
  {
   "cell_type": "code",
   "execution_count": null,
   "id": "55a690de",
   "metadata": {},
   "outputs": [],
   "source": []
  },
  {
   "cell_type": "code",
   "execution_count": null,
   "id": "9fe1cc2e",
   "metadata": {},
   "outputs": [],
   "source": []
  },
  {
   "cell_type": "code",
   "execution_count": null,
   "id": "5bfed7e3",
   "metadata": {},
   "outputs": [],
   "source": []
  }
 ],
 "metadata": {
  "kernelspec": {
   "display_name": "Python 3 (ipykernel)",
   "language": "python",
   "name": "python3"
  },
  "language_info": {
   "codemirror_mode": {
    "name": "ipython",
    "version": 3
   },
   "file_extension": ".py",
   "mimetype": "text/x-python",
   "name": "python",
   "nbconvert_exporter": "python",
   "pygments_lexer": "ipython3",
   "version": "3.10.9"
  }
 },
 "nbformat": 4,
 "nbformat_minor": 5
}
