{
 "cells": [
  {
   "cell_type": "code",
   "execution_count": null,
   "id": "7b98a28c",
   "metadata": {},
   "outputs": [],
   "source": []
  },
  {
   "cell_type": "code",
   "execution_count": null,
   "id": "001c866d",
   "metadata": {},
   "outputs": [],
   "source": [
    "1. What is the concept of supervised learning? What is the significance of the name?\n",
    "\n"
   ]
  },
  {
   "cell_type": "code",
   "execution_count": null,
   "id": "72aa076a",
   "metadata": {},
   "outputs": [],
   "source": [
    " Supervised learning is a machine learning approach where the algorithm learns from labeled training data. The name \"supervised\" indicates that the learning process is guided by a supervisor or a teacher who provides the correct labels or targets for the input data. The goal is to learn a mapping or a function that can predict the correct output for new, unseen input data.\n"
   ]
  },
  {
   "cell_type": "code",
   "execution_count": null,
   "id": "cae8b180",
   "metadata": {},
   "outputs": [],
   "source": [
    "2. In the hospital sector, offer an example of supervised learning.\n",
    "\n",
    "\n"
   ]
  },
  {
   "cell_type": "code",
   "execution_count": null,
   "id": "701f187c",
   "metadata": {},
   "outputs": [],
   "source": [
    "Example in the hospital sector: Predicting the risk of heart disease based on patient demographics, medical history, and diagnostic tests. The algorithm is trained on a labeled dataset where each patient is labeled as either having heart disease or not. Using this data, the algorithm can learn patterns and make predictions for new patients.\n",
    "\n"
   ]
  },
  {
   "cell_type": "code",
   "execution_count": null,
   "id": "0dff01f5",
   "metadata": {},
   "outputs": [],
   "source": [
    "3. Give three supervised learning examples.\n"
   ]
  },
  {
   "cell_type": "code",
   "execution_count": null,
   "id": "b43d0f41",
   "metadata": {},
   "outputs": [],
   "source": [
    " Three examples of supervised learning:\n",
    "   a) Spam email classification: The algorithm learns to classify emails as spam or non-spam based on labeled training data.\n",
    "   b) Sentiment analysis: The algorithm learns to classify text reviews as positive or negative sentiment based on labeled training data.\n",
    "   c) Stock price prediction: The algorithm learns to predict the future price of a stock based on historical stock data and market indicators using labeled training data.\n",
    "\n"
   ]
  },
  {
   "cell_type": "code",
   "execution_count": null,
   "id": "376f6f39",
   "metadata": {},
   "outputs": [],
   "source": [
    "4. In supervised learning, what are classification and regression?\n"
   ]
  },
  {
   "cell_type": "code",
   "execution_count": null,
   "id": "db639603",
   "metadata": {},
   "outputs": [],
   "source": [
    " Classification and regression are two types of tasks in supervised learning:\n",
    "   - Classification: In classification, the goal is to predict a discrete class or category for each input data point. For example, classifying emails as spam or non-spam.\n",
    "   - Regression: In regression, the goal is to predict a continuous numerical value for each input data point. For example, predicting the house prices based on features like area, number of rooms, etc.\n"
   ]
  },
  {
   "cell_type": "code",
   "execution_count": null,
   "id": "1de0b55f",
   "metadata": {},
   "outputs": [],
   "source": [
    "5. Give some popular classification algorithms as examples.\n"
   ]
  },
  {
   "cell_type": "code",
   "execution_count": null,
   "id": "c2c58d2b",
   "metadata": {},
   "outputs": [],
   "source": [
    "Popular classification algorithms include:\n",
    "   - Logistic Regression\n",
    "   - Naive Bayes\n",
    "   - Decision Trees\n",
    "   - Random Forest\n",
    "   - Support Vector Machines (SVM)\n",
    "   - k-Nearest Neighbors (k-NN)\n"
   ]
  },
  {
   "cell_type": "code",
   "execution_count": null,
   "id": "7ea1e4df",
   "metadata": {},
   "outputs": [],
   "source": [
    "6. Briefly describe the SVM model.\n"
   ]
  },
  {
   "cell_type": "code",
   "execution_count": null,
   "id": "3720016f",
   "metadata": {},
   "outputs": [],
   "source": [
    "SVM (Support Vector Machines) is a supervised learning model used for classification and regression tasks. It constructs a hyperplane or a set of hyperplanes in a high-dimensional space to separate the different classes or approximate the target function. It aims to find the optimal hyperplane with the maximum margin between classes.\n",
    "\n"
   ]
  },
  {
   "cell_type": "code",
   "execution_count": null,
   "id": "2c53d0ae",
   "metadata": {},
   "outputs": [],
   "source": [
    "\n",
    "\n",
    "7. In SVM, what is the cost of misclassification?\n"
   ]
  },
  {
   "cell_type": "code",
   "execution_count": null,
   "id": "9b7d467a",
   "metadata": {},
   "outputs": [],
   "source": [
    " The cost of misclassification in SVM refers to the penalty or loss incurred when a data point is misclassified. SVM aims to find the hyperplane that maximizes the margin between classes while minimizing the misclassification of data points. The cost of misclassification is typically controlled by a parameter called the \"C\" parameter in SVM.\n",
    "\n",
    "\n"
   ]
  },
  {
   "cell_type": "code",
   "execution_count": null,
   "id": "5ca40ae3",
   "metadata": {},
   "outputs": [],
   "source": []
  },
  {
   "cell_type": "code",
   "execution_count": null,
   "id": "35a28e53",
   "metadata": {},
   "outputs": [],
   "source": [
    "8. In the SVM model, define Support Vectors.\n"
   ]
  },
  {
   "cell_type": "code",
   "execution_count": null,
   "id": "062a859d",
   "metadata": {},
   "outputs": [],
   "source": [
    " Support Vectors in SVM are the data points that lie closest to the decision boundary or the hyperplane. These points play a crucial role in defining the decision boundary and determining the margin in SVM. They are the data points that are most difficult to classify correctly and are used to construct the decision function.\n"
   ]
  },
  {
   "cell_type": "code",
   "execution_count": null,
   "id": "2d194e49",
   "metadata": {},
   "outputs": [],
   "source": [
    "9. In the SVM model, define the kernel.\n"
   ]
  },
  {
   "cell_type": "code",
   "execution_count": null,
   "id": "b4483603",
   "metadata": {},
   "outputs": [],
   "source": [
    " In the SVM model, a kernel is a function that transforms the input data into a higher-dimensional space. It allows SVM to find non-linear decision boundaries by implicitly mapping the data into a higher-dimensional feature space where the classes become separable. Common kernel functions include linear, polynomial, radial basis function (RBF), and sigmoid.\n"
   ]
  },
  {
   "cell_type": "code",
   "execution_count": null,
   "id": "12622367",
   "metadata": {},
   "outputs": [],
   "source": [
    "10. What are the factors that influence SVM&#39;s effectiveness?\n"
   ]
  },
  {
   "cell_type": "code",
   "execution_count": null,
   "id": "5187a11e",
   "metadata": {},
   "outputs": [],
   "source": [
    " Factors influencing SVM's effectiveness include the choice of kernel function, the regularization parameter (C), the quality and size of the training data, and the presence of outliers or noisy data.\n",
    "\n"
   ]
  },
  {
   "cell_type": "code",
   "execution_count": null,
   "id": "d2ae93a2",
   "metadata": {},
   "outputs": [],
   "source": [
    "11. What are the benefits of using the SVM model?\n",
    "\n"
   ]
  },
  {
   "cell_type": "code",
   "execution_count": null,
   "id": "44b557c8",
   "metadata": {},
   "outputs": [],
   "source": [
    "Benefits of using the SVM model include:\n",
    "    - Effective in high-dimensional spaces and with complex datasets.\n",
    "    - Can handle both linear and non-linear decision boundaries.\n",
    "    - Works well with datasets having a clear margin of separation.\n",
    "\n"
   ]
  },
  {
   "cell_type": "code",
   "execution_count": null,
   "id": "78fd8bbe",
   "metadata": {},
   "outputs": [],
   "source": []
  },
  {
   "cell_type": "code",
   "execution_count": null,
   "id": "67455de4",
   "metadata": {},
   "outputs": [],
   "source": [
    "12. What are the drawbacks of using the SVM model?\n"
   ]
  },
  {
   "cell_type": "code",
   "execution_count": null,
   "id": "dec905e8",
   "metadata": {},
   "outputs": [],
   "source": [
    "Drawbacks of using the SVM model include:\n",
    "    - Can be sensitive to the choice of hyperparameters, such as the C parameter and the kernel function.\n",
    "    - Training time can be longer for large datasets.\n",
    "    - Difficult to interpret and understand the learned decision boundaries compared to other models like decision trees.\n"
   ]
  },
  {
   "cell_type": "code",
   "execution_count": null,
   "id": "e264f336",
   "metadata": {},
   "outputs": [],
   "source": [
    "13. Notes should be written on\n",
    "\n",
    "1. The kNN algorithm has a validation flaw.\n",
    "\n",
    "2. In the kNN algorithm, the k value is chosen.\n",
    "\n",
    "3. A decision tree with inductive bias"
   ]
  },
  {
   "cell_type": "code",
   "execution_count": null,
   "id": "8b40fab1",
   "metadata": {},
   "outputs": [],
   "source": [
    " Notes:\n",
    "   1. The kNN algorithm has a validation flaw: The performance of kNN can degrade if the dataset contains irrelevant or noisy features, as it considers all features equally.\n",
    "   \n",
    "   2. In the kNN algorithm, the k value is chosen: The choice of the k value in kNN affects the model's bias-variance trade-off and can impact the model's performance.\n",
    "\n",
    "    3. A decision tree with inductive bias: A decision tree algorithm has an inductive bias towards simpler decision rules and tends to favor features with high information gain during the tree construction process.\n",
    "\n",
    "\n",
    "\n"
   ]
  },
  {
   "cell_type": "code",
   "execution_count": null,
   "id": "4bb517ad",
   "metadata": {},
   "outputs": [],
   "source": []
  },
  {
   "cell_type": "code",
   "execution_count": null,
   "id": "288834f7",
   "metadata": {},
   "outputs": [],
   "source": [
    "\n",
    "14. What are some of the benefits of the kNN algorithm?\n",
    "\n"
   ]
  },
  {
   "cell_type": "code",
   "execution_count": null,
   "id": "dd93e9f1",
   "metadata": {},
   "outputs": [],
   "source": [
    " Benefits of the kNN algorithm include:\n",
    "    - Simple and intuitive algorithm.\n",
    "    - Can handle multi-class classification.\n",
    "    - Robust to noisy data.\n"
   ]
  },
  {
   "cell_type": "code",
   "execution_count": null,
   "id": "4b7f9775",
   "metadata": {},
   "outputs": [],
   "source": []
  },
  {
   "cell_type": "code",
   "execution_count": null,
   "id": "29eae08d",
   "metadata": {},
   "outputs": [],
   "source": [
    "15. What are some of the kNN algorithm&#39;s drawbacks?\n"
   ]
  },
  {
   "cell_type": "code",
   "execution_count": null,
   "id": "9a05ec80",
   "metadata": {},
   "outputs": [],
   "source": [
    " Drawbacks of the kNN algorithm include:\n",
    "    - Computationally expensive for large datasets.\n",
    "    - Sensitive to the choice of k value.\n",
    "    - Requires appropriate feature scaling and handling of missing data.\n",
    "\n"
   ]
  },
  {
   "cell_type": "code",
   "execution_count": null,
   "id": "c880348c",
   "metadata": {},
   "outputs": [],
   "source": [
    "16. Explain the decision tree algorithm in a few words.\n",
    "\n"
   ]
  },
  {
   "cell_type": "code",
   "execution_count": null,
   "id": "47f100ec",
   "metadata": {},
   "outputs": [],
   "source": [
    " The decision tree algorithm builds a tree-like model to make decisions or predictions. It splits the dataset based on different features and their values, creating decision nodes and leaf nodes. Each decision node represents a test on a specific feature, and each leaf node represents a class or a prediction.\n"
   ]
  },
  {
   "cell_type": "code",
   "execution_count": null,
   "id": "738ce023",
   "metadata": {},
   "outputs": [],
   "source": []
  },
  {
   "cell_type": "code",
   "execution_count": null,
   "id": "40039410",
   "metadata": {},
   "outputs": [],
   "source": [
    "17. What is the difference between a node and a leaf in a decision tree?\n",
    "\n"
   ]
  },
  {
   "cell_type": "code",
   "execution_count": null,
   "id": "8dcd574a",
   "metadata": {},
   "outputs": [],
   "source": [
    "In a decision tree, a node represents a test on a specific feature. It splits the data into two or more branches based on the feature's value. A leaf represents a class or a prediction, and it does not split further.\n",
    "\n"
   ]
  },
  {
   "cell_type": "code",
   "execution_count": null,
   "id": "b0cacc17",
   "metadata": {},
   "outputs": [],
   "source": []
  },
  {
   "cell_type": "code",
   "execution_count": null,
   "id": "0613762e",
   "metadata": {},
   "outputs": [],
   "source": [
    "18. What is a decision tree&#39;s entropy?\n",
    "\n"
   ]
  },
  {
   "cell_type": "code",
   "execution_count": null,
   "id": "10339a99",
   "metadata": {},
   "outputs": [],
   "source": [
    "Entropy in a decision tree is a measure of impurity or uncertainty in the dataset. It quantifies the randomness or disorder in the distribution of classes. The goal of the decision tree algorithm is to reduce the entropy by splitting the data based on features to create more homogeneous subsets.\n"
   ]
  },
  {
   "cell_type": "code",
   "execution_count": null,
   "id": "b6a4cac9",
   "metadata": {},
   "outputs": [],
   "source": []
  },
  {
   "cell_type": "code",
   "execution_count": null,
   "id": "f1b4b8c9",
   "metadata": {},
   "outputs": [],
   "source": [
    "19. In a decision tree, define knowledge gain.\n"
   ]
  },
  {
   "cell_type": "code",
   "execution_count": null,
   "id": "d4d48b03",
   "metadata": {},
   "outputs": [],
   "source": [
    "In a decision tree, knowledge gain refers to the reduction in entropy or the increase in purity achieved by splitting the data based on a particular feature. It measures how informative a feature is in terms of separating the classes or making predictions.\n"
   ]
  },
  {
   "cell_type": "code",
   "execution_count": null,
   "id": "c2e2c571",
   "metadata": {},
   "outputs": [],
   "source": [
    "20. Choose three advantages of the decision tree approach and write them down.\n"
   ]
  },
  {
   "cell_type": "code",
   "execution_count": null,
   "id": "e0c21321",
   "metadata": {},
   "outputs": [],
   "source": [
    " Advantages of the decision tree approach:\n",
    "    - Easy to understand and interpret the learned decision rules.\n",
    "    - Can handle both categorical and numerical features.\n",
    "    - Can handle missing values in the data.\n",
    "\n",
    "\n"
   ]
  },
  {
   "cell_type": "code",
   "execution_count": null,
   "id": "ae316492",
   "metadata": {},
   "outputs": [],
   "source": [
    "21. Make a list of three flaws in the decision tree process.\n"
   ]
  },
  {
   "cell_type": "code",
   "execution_count": null,
   "id": "7dc3777d",
   "metadata": {},
   "outputs": [],
   "source": [
    "Flaws in the decision tree process:\n",
    "    - Decision trees can be prone to overfitting, especially if the tree becomes too deep and complex.\n",
    "    - Decision trees can be sensitive to small changes in the data, leading to different tree structures.\n",
    "    - Decision trees may not perform well when dealing with imbalanced datasets.\n"
   ]
  },
  {
   "cell_type": "code",
   "execution_count": null,
   "id": "08025d2d",
   "metadata": {},
   "outputs": [],
   "source": [
    "\n",
    "\n",
    "22. Briefly describe the random forest model."
   ]
  },
  {
   "cell_type": "code",
   "execution_count": null,
   "id": "434a4f66",
   "metadata": {},
   "outputs": [],
   "source": [
    "Random Forest is an ensemble learning method based on decision trees. It combines multiple decision trees to make predictions or classifications. Each tree in the random forest is trained on a random subset of the training data with replacement (bootstrap samples), and the final prediction is obtained through a voting or averaging mechanism. Random Forest helps reduce overfitting and provides improved generalization performance compared to individual decision trees.\n"
   ]
  },
  {
   "cell_type": "code",
   "execution_count": null,
   "id": "78efe8b9",
   "metadata": {},
   "outputs": [],
   "source": []
  },
  {
   "cell_type": "code",
   "execution_count": null,
   "id": "d3da3666",
   "metadata": {},
   "outputs": [],
   "source": []
  },
  {
   "cell_type": "code",
   "execution_count": null,
   "id": "84493035",
   "metadata": {},
   "outputs": [],
   "source": []
  },
  {
   "cell_type": "code",
   "execution_count": null,
   "id": "6422cbe4",
   "metadata": {},
   "outputs": [],
   "source": []
  },
  {
   "cell_type": "code",
   "execution_count": null,
   "id": "104162df",
   "metadata": {},
   "outputs": [],
   "source": []
  },
  {
   "cell_type": "code",
   "execution_count": null,
   "id": "5f0b282a",
   "metadata": {},
   "outputs": [],
   "source": []
  },
  {
   "cell_type": "code",
   "execution_count": null,
   "id": "1d741f03",
   "metadata": {},
   "outputs": [],
   "source": []
  },
  {
   "cell_type": "code",
   "execution_count": null,
   "id": "bb211804",
   "metadata": {},
   "outputs": [],
   "source": []
  },
  {
   "cell_type": "code",
   "execution_count": null,
   "id": "4af80bf7",
   "metadata": {},
   "outputs": [],
   "source": []
  },
  {
   "cell_type": "code",
   "execution_count": null,
   "id": "9ccea953",
   "metadata": {},
   "outputs": [],
   "source": []
  },
  {
   "cell_type": "code",
   "execution_count": null,
   "id": "8639e173",
   "metadata": {},
   "outputs": [],
   "source": []
  },
  {
   "cell_type": "code",
   "execution_count": null,
   "id": "34f1ca70",
   "metadata": {},
   "outputs": [],
   "source": []
  },
  {
   "cell_type": "code",
   "execution_count": null,
   "id": "a23339f3",
   "metadata": {},
   "outputs": [],
   "source": []
  },
  {
   "cell_type": "code",
   "execution_count": null,
   "id": "81f4f3f4",
   "metadata": {},
   "outputs": [],
   "source": []
  },
  {
   "cell_type": "code",
   "execution_count": null,
   "id": "4c13df40",
   "metadata": {},
   "outputs": [],
   "source": []
  },
  {
   "cell_type": "code",
   "execution_count": null,
   "id": "270d684e",
   "metadata": {},
   "outputs": [],
   "source": []
  },
  {
   "cell_type": "code",
   "execution_count": null,
   "id": "535e80a2",
   "metadata": {},
   "outputs": [],
   "source": []
  },
  {
   "cell_type": "code",
   "execution_count": null,
   "id": "9bfbbeb9",
   "metadata": {},
   "outputs": [],
   "source": []
  },
  {
   "cell_type": "code",
   "execution_count": null,
   "id": "a0ed045a",
   "metadata": {},
   "outputs": [],
   "source": []
  },
  {
   "cell_type": "code",
   "execution_count": null,
   "id": "1e785aa7",
   "metadata": {},
   "outputs": [],
   "source": []
  },
  {
   "cell_type": "code",
   "execution_count": null,
   "id": "0113fc14",
   "metadata": {},
   "outputs": [],
   "source": []
  },
  {
   "cell_type": "code",
   "execution_count": null,
   "id": "83dddefb",
   "metadata": {},
   "outputs": [],
   "source": []
  },
  {
   "cell_type": "code",
   "execution_count": null,
   "id": "76273b80",
   "metadata": {},
   "outputs": [],
   "source": []
  },
  {
   "cell_type": "code",
   "execution_count": null,
   "id": "717d1ee6",
   "metadata": {},
   "outputs": [],
   "source": []
  },
  {
   "cell_type": "code",
   "execution_count": null,
   "id": "5dcf308f",
   "metadata": {},
   "outputs": [],
   "source": []
  },
  {
   "cell_type": "code",
   "execution_count": null,
   "id": "438f3eff",
   "metadata": {},
   "outputs": [],
   "source": []
  },
  {
   "cell_type": "code",
   "execution_count": null,
   "id": "e7152240",
   "metadata": {},
   "outputs": [],
   "source": []
  },
  {
   "cell_type": "code",
   "execution_count": null,
   "id": "45002f77",
   "metadata": {},
   "outputs": [],
   "source": []
  },
  {
   "cell_type": "code",
   "execution_count": null,
   "id": "8eadef10",
   "metadata": {},
   "outputs": [],
   "source": []
  },
  {
   "cell_type": "code",
   "execution_count": null,
   "id": "c38eb777",
   "metadata": {},
   "outputs": [],
   "source": []
  },
  {
   "cell_type": "code",
   "execution_count": null,
   "id": "4b42308c",
   "metadata": {},
   "outputs": [],
   "source": []
  },
  {
   "cell_type": "code",
   "execution_count": null,
   "id": "f48d2981",
   "metadata": {},
   "outputs": [],
   "source": []
  },
  {
   "cell_type": "code",
   "execution_count": null,
   "id": "c4208fdd",
   "metadata": {},
   "outputs": [],
   "source": []
  },
  {
   "cell_type": "code",
   "execution_count": null,
   "id": "a31923ae",
   "metadata": {},
   "outputs": [],
   "source": []
  },
  {
   "cell_type": "code",
   "execution_count": null,
   "id": "51461826",
   "metadata": {},
   "outputs": [],
   "source": []
  },
  {
   "cell_type": "code",
   "execution_count": null,
   "id": "9da953d5",
   "metadata": {},
   "outputs": [],
   "source": []
  },
  {
   "cell_type": "code",
   "execution_count": null,
   "id": "aeca3e48",
   "metadata": {},
   "outputs": [],
   "source": []
  },
  {
   "cell_type": "code",
   "execution_count": null,
   "id": "d22ee8db",
   "metadata": {},
   "outputs": [],
   "source": []
  },
  {
   "cell_type": "code",
   "execution_count": null,
   "id": "a8a9f7f4",
   "metadata": {},
   "outputs": [],
   "source": []
  },
  {
   "cell_type": "code",
   "execution_count": null,
   "id": "a6be5c8d",
   "metadata": {},
   "outputs": [],
   "source": []
  },
  {
   "cell_type": "code",
   "execution_count": null,
   "id": "86d8d84d",
   "metadata": {},
   "outputs": [],
   "source": []
  },
  {
   "cell_type": "code",
   "execution_count": null,
   "id": "47ca2885",
   "metadata": {},
   "outputs": [],
   "source": []
  },
  {
   "cell_type": "code",
   "execution_count": null,
   "id": "5b696d77",
   "metadata": {},
   "outputs": [],
   "source": []
  },
  {
   "cell_type": "code",
   "execution_count": null,
   "id": "b0b080b2",
   "metadata": {},
   "outputs": [],
   "source": []
  },
  {
   "cell_type": "code",
   "execution_count": null,
   "id": "6e34de3e",
   "metadata": {},
   "outputs": [],
   "source": []
  },
  {
   "cell_type": "code",
   "execution_count": null,
   "id": "eb2cfcfe",
   "metadata": {},
   "outputs": [],
   "source": []
  },
  {
   "cell_type": "code",
   "execution_count": null,
   "id": "32f007ed",
   "metadata": {},
   "outputs": [],
   "source": []
  },
  {
   "cell_type": "code",
   "execution_count": null,
   "id": "96abe2df",
   "metadata": {},
   "outputs": [],
   "source": []
  },
  {
   "cell_type": "code",
   "execution_count": null,
   "id": "1be2ec55",
   "metadata": {},
   "outputs": [],
   "source": []
  },
  {
   "cell_type": "code",
   "execution_count": null,
   "id": "16932970",
   "metadata": {},
   "outputs": [],
   "source": []
  },
  {
   "cell_type": "code",
   "execution_count": null,
   "id": "3d3ce573",
   "metadata": {},
   "outputs": [],
   "source": []
  },
  {
   "cell_type": "code",
   "execution_count": null,
   "id": "fb2ca9f8",
   "metadata": {},
   "outputs": [],
   "source": []
  },
  {
   "cell_type": "code",
   "execution_count": null,
   "id": "7fbbacc2",
   "metadata": {},
   "outputs": [],
   "source": []
  },
  {
   "cell_type": "code",
   "execution_count": null,
   "id": "dd70e3be",
   "metadata": {},
   "outputs": [],
   "source": []
  },
  {
   "cell_type": "code",
   "execution_count": null,
   "id": "e0faa9a9",
   "metadata": {},
   "outputs": [],
   "source": []
  },
  {
   "cell_type": "code",
   "execution_count": null,
   "id": "8bd21639",
   "metadata": {},
   "outputs": [],
   "source": []
  },
  {
   "cell_type": "code",
   "execution_count": null,
   "id": "c23b3425",
   "metadata": {},
   "outputs": [],
   "source": []
  },
  {
   "cell_type": "code",
   "execution_count": null,
   "id": "320c1759",
   "metadata": {},
   "outputs": [],
   "source": []
  },
  {
   "cell_type": "code",
   "execution_count": null,
   "id": "201a2c71",
   "metadata": {},
   "outputs": [],
   "source": []
  },
  {
   "cell_type": "code",
   "execution_count": null,
   "id": "87932d5e",
   "metadata": {},
   "outputs": [],
   "source": []
  },
  {
   "cell_type": "code",
   "execution_count": null,
   "id": "55b6dbf8",
   "metadata": {},
   "outputs": [],
   "source": []
  },
  {
   "cell_type": "code",
   "execution_count": null,
   "id": "e533e16b",
   "metadata": {},
   "outputs": [],
   "source": []
  },
  {
   "cell_type": "code",
   "execution_count": null,
   "id": "881727bb",
   "metadata": {},
   "outputs": [],
   "source": []
  },
  {
   "cell_type": "code",
   "execution_count": null,
   "id": "5a3742f1",
   "metadata": {},
   "outputs": [],
   "source": []
  },
  {
   "cell_type": "code",
   "execution_count": null,
   "id": "193d05be",
   "metadata": {},
   "outputs": [],
   "source": []
  },
  {
   "cell_type": "code",
   "execution_count": null,
   "id": "ac56a629",
   "metadata": {},
   "outputs": [],
   "source": []
  },
  {
   "cell_type": "code",
   "execution_count": null,
   "id": "8caae03a",
   "metadata": {},
   "outputs": [],
   "source": []
  },
  {
   "cell_type": "code",
   "execution_count": null,
   "id": "c4ac8279",
   "metadata": {},
   "outputs": [],
   "source": []
  },
  {
   "cell_type": "code",
   "execution_count": null,
   "id": "19edbcea",
   "metadata": {},
   "outputs": [],
   "source": []
  },
  {
   "cell_type": "code",
   "execution_count": null,
   "id": "4294c7f6",
   "metadata": {},
   "outputs": [],
   "source": []
  },
  {
   "cell_type": "code",
   "execution_count": null,
   "id": "2e670f0a",
   "metadata": {},
   "outputs": [],
   "source": []
  },
  {
   "cell_type": "code",
   "execution_count": null,
   "id": "478c1608",
   "metadata": {},
   "outputs": [],
   "source": []
  }
 ],
 "metadata": {
  "kernelspec": {
   "display_name": "Python 3 (ipykernel)",
   "language": "python",
   "name": "python3"
  },
  "language_info": {
   "codemirror_mode": {
    "name": "ipython",
    "version": 3
   },
   "file_extension": ".py",
   "mimetype": "text/x-python",
   "name": "python",
   "nbconvert_exporter": "python",
   "pygments_lexer": "ipython3",
   "version": "3.10.9"
  }
 },
 "nbformat": 4,
 "nbformat_minor": 5
}
