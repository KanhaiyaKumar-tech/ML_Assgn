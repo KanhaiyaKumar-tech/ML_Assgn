{
 "cells": [
  {
   "cell_type": "code",
   "execution_count": null,
   "id": "020122ed",
   "metadata": {},
   "outputs": [],
   "source": []
  },
  {
   "cell_type": "code",
   "execution_count": null,
   "id": "4273e03f",
   "metadata": {},
   "outputs": [],
   "source": []
  },
  {
   "cell_type": "code",
   "execution_count": null,
   "id": "37a80764",
   "metadata": {},
   "outputs": [],
   "source": [
    "1. What is prior probability? Give an example.\n",
    "\n"
   ]
  },
  {
   "cell_type": "code",
   "execution_count": null,
   "id": "e421569d",
   "metadata": {},
   "outputs": [],
   "source": [
    "Prior probability refers to the initial belief or probability assigned to an event or hypothesis before any new evidence is considered. It represents our knowledge or belief about the likelihood of an event occurring based on existing information or historical data.\n",
    "\n",
    "Example: Suppose we want to predict whether it will rain tomorrow. Based on historical weather data, we know that it rains in our area 20% of the time during this season. So, the prior probability of rain tomorrow would be 0.2 or 20%.\n",
    "\n"
   ]
  },
  {
   "cell_type": "code",
   "execution_count": null,
   "id": "75d706a9",
   "metadata": {},
   "outputs": [],
   "source": []
  },
  {
   "cell_type": "code",
   "execution_count": null,
   "id": "660191c5",
   "metadata": {},
   "outputs": [],
   "source": [
    "2. What is posterior probability? Give an example.\n",
    "\n",
    "\n"
   ]
  },
  {
   "cell_type": "code",
   "execution_count": null,
   "id": "f792373a",
   "metadata": {},
   "outputs": [],
   "source": [
    "Posterior probability is the updated probability of an event or hypothesis after considering new evidence. It takes into account both the prior probability and the new information or data observed.\n",
    "\n",
    "Example: Building on the previous example, suppose we check the weather forecast and see that there is a high chance of a rainstorm approaching our area tomorrow. Based on this new information, we can update our prior probability of rain and calculate the posterior probability, which may increase from 20% to, let's say, 80%.\n",
    "\n"
   ]
  },
  {
   "cell_type": "code",
   "execution_count": null,
   "id": "6966caee",
   "metadata": {},
   "outputs": [],
   "source": [
    "3. What is likelihood probability? Give an example.\n"
   ]
  },
  {
   "cell_type": "code",
   "execution_count": null,
   "id": "13e95a72",
   "metadata": {},
   "outputs": [],
   "source": [
    "Likelihood probability is the probability of observing a particular set of data or evidence given a specific hypothesis or event. It quantifies how well the observed data aligns with a particular hypothesis or event.\n",
    "\n",
    "Example: Consider a coin flipping experiment. If we have a biased coin, the likelihood probability of observing \"heads\" would be higher if the coin is biased towards heads (e.g., 0.8) compared to a fair coin (e.g., 0.5).\n"
   ]
  },
  {
   "cell_type": "code",
   "execution_count": null,
   "id": "bb3fa6e9",
   "metadata": {},
   "outputs": [],
   "source": [
    "4. What is Naïve Bayes classifier? Why is it named so?\n"
   ]
  },
  {
   "cell_type": "code",
   "execution_count": null,
   "id": "22d214be",
   "metadata": {},
   "outputs": [],
   "source": [
    "The Naïve Bayes classifier is a machine learning algorithm based on Bayes' theorem that assumes the independence of the features (predictor variables). It is named \"naïve\" because it makes the strong assumption that all features are independent of each other, which is often an oversimplification but allows for efficient computation.\n"
   ]
  },
  {
   "cell_type": "code",
   "execution_count": null,
   "id": "79337392",
   "metadata": {},
   "outputs": [],
   "source": [
    "5. What is optimal Bayes classifier?\n"
   ]
  },
  {
   "cell_type": "code",
   "execution_count": null,
   "id": "67078a8a",
   "metadata": {},
   "outputs": [],
   "source": [
    "The optimal Bayes classifier is a theoretical classifier that achieves the best possible classification performance by considering the true underlying probability distributions of the features and classes. It serves as a benchmark for evaluating the performance of other classifiers.\n"
   ]
  },
  {
   "cell_type": "code",
   "execution_count": null,
   "id": "1dc46996",
   "metadata": {},
   "outputs": [],
   "source": []
  },
  {
   "cell_type": "code",
   "execution_count": null,
   "id": "3e104727",
   "metadata": {},
   "outputs": [],
   "source": [
    "6. Write any two features of Bayesian learning methods.\n"
   ]
  },
  {
   "cell_type": "code",
   "execution_count": null,
   "id": "f8cc7d93",
   "metadata": {},
   "outputs": [],
   "source": [
    "Two features of Bayesian learning methods are:\n",
    "\n",
    "- Bayesian learning provides a principled framework for incorporating prior knowledge or beliefs into the learning process, allowing for better decision-making and more robust models.\n",
    "- Bayesian learning allows for the updating of beliefs and probabilities based on new evidence, making it suitable for handling sequential or incremental learning tasks.\n"
   ]
  },
  {
   "cell_type": "code",
   "execution_count": null,
   "id": "27ea62bf",
   "metadata": {},
   "outputs": [],
   "source": [
    "7. Define the concept of consistent learners.\n"
   ]
  },
  {
   "cell_type": "code",
   "execution_count": null,
   "id": "ac1dc2d1",
   "metadata": {},
   "outputs": [],
   "source": [
    "Consistent learners are machine learning algorithms that converge to the true underlying function or relationship as more training data is provided. They have the property of consistency, meaning that they approach the optimal solution as the sample size increases.\n"
   ]
  },
  {
   "cell_type": "code",
   "execution_count": null,
   "id": "62194596",
   "metadata": {},
   "outputs": [],
   "source": [
    "8. Write any two strengths of Bayes classifier.\n",
    "\n",
    "\n"
   ]
  },
  {
   "cell_type": "code",
   "execution_count": null,
   "id": "37755021",
   "metadata": {},
   "outputs": [],
   "source": [
    "Two strengths of the Bayes classifier are:\n",
    "\n",
    "- It can handle high-dimensional data and large feature spaces effectively, as it makes the assumption of feature independence, which simplifies the modeling and reduces computational complexity.\n",
    "- It can provide probabilistic predictions or class probabilities, allowing for a better understanding of uncertainty and decision-making compared to models that only provide binary predictions.\n",
    "\n",
    "\n",
    "    "
   ]
  },
  {
   "cell_type": "code",
   "execution_count": null,
   "id": "7ee6825b",
   "metadata": {},
   "outputs": [],
   "source": []
  },
  {
   "cell_type": "code",
   "execution_count": null,
   "id": "3e42c158",
   "metadata": {},
   "outputs": [],
   "source": [
    "9. Write any two weaknesses of Bayes classifier.\n"
   ]
  },
  {
   "cell_type": "code",
   "execution_count": null,
   "id": "89df36cb",
   "metadata": {},
   "outputs": [],
   "source": [
    "Two weaknesses of the Bayes classifier are:\n",
    "\n",
    "- The assumption of feature independence may not hold in many real-world applications, leading to suboptimal performance if the features are dependent on each other.\n",
    "- It can be sensitive to the presence of irrelevant or redundant features, as it treats all features as equally important and independent.\n"
   ]
  },
  {
   "cell_type": "code",
   "execution_count": null,
   "id": "59d05512",
   "metadata": {},
   "outputs": [],
   "source": []
  },
  {
   "cell_type": "code",
   "execution_count": null,
   "id": "5bedcbd1",
   "metadata": {},
   "outputs": [],
   "source": [
    "10. Explain how Naïve Bayes classifier is used for\n",
    "\n",
    "1. Text classification\n",
    "\n",
    "2. Spam filtering\n",
    "\n",
    "3. Market sentiment analysis"
   ]
  },
  {
   "cell_type": "code",
   "execution_count": null,
   "id": "55102dc9",
   "metadata": {},
   "outputs": [],
   "source": [
    "Naïve Bayes classifier for:\n",
    "\n",
    "1. Text classification: Naïve Bayes is commonly used for text classification tasks, such as sentiment analysis or spam detection. It can analyze the presence or absence of specific words or features in a text document and predict the corresponding class (e.g., positive or negative sentiment, spam or non-spam).\n",
    "\n",
    "2. Spam filtering: Naïve Bayes can be used for email spam filtering by considering the frequency of certain words or patterns in spam emails versus legitimate emails. It calculates the posterior probability of an email being spam given the observed word frequencies and classifies it accordingly.\n",
    "\n",
    "3. Market sentiment analysis: Naïve Bayes can be applied to analyze market sentiment by considering textual data from news articles, social media, or financial reports. It can classify the sentiment (positive, negative, neutral) based on the occurrence of certain words or sentiment indicators, helping investors make informed decisions.\n"
   ]
  },
  {
   "cell_type": "code",
   "execution_count": null,
   "id": "83ae41b1",
   "metadata": {},
   "outputs": [],
   "source": []
  },
  {
   "cell_type": "code",
   "execution_count": null,
   "id": "6d5c0f92",
   "metadata": {},
   "outputs": [],
   "source": []
  },
  {
   "cell_type": "code",
   "execution_count": null,
   "id": "20798290",
   "metadata": {},
   "outputs": [],
   "source": []
  },
  {
   "cell_type": "code",
   "execution_count": null,
   "id": "4f18f556",
   "metadata": {},
   "outputs": [],
   "source": []
  },
  {
   "cell_type": "code",
   "execution_count": null,
   "id": "7f7bbe6c",
   "metadata": {},
   "outputs": [],
   "source": []
  },
  {
   "cell_type": "code",
   "execution_count": null,
   "id": "5d4b24fb",
   "metadata": {},
   "outputs": [],
   "source": []
  },
  {
   "cell_type": "code",
   "execution_count": null,
   "id": "de11865c",
   "metadata": {},
   "outputs": [],
   "source": []
  },
  {
   "cell_type": "code",
   "execution_count": null,
   "id": "bdb4e610",
   "metadata": {},
   "outputs": [],
   "source": []
  },
  {
   "cell_type": "code",
   "execution_count": null,
   "id": "08314061",
   "metadata": {},
   "outputs": [],
   "source": []
  },
  {
   "cell_type": "code",
   "execution_count": null,
   "id": "46d1190a",
   "metadata": {},
   "outputs": [],
   "source": []
  },
  {
   "cell_type": "code",
   "execution_count": null,
   "id": "ca94b9e4",
   "metadata": {},
   "outputs": [],
   "source": []
  },
  {
   "cell_type": "code",
   "execution_count": null,
   "id": "86fd4cad",
   "metadata": {},
   "outputs": [],
   "source": []
  }
 ],
 "metadata": {
  "kernelspec": {
   "display_name": "Python 3 (ipykernel)",
   "language": "python",
   "name": "python3"
  },
  "language_info": {
   "codemirror_mode": {
    "name": "ipython",
    "version": 3
   },
   "file_extension": ".py",
   "mimetype": "text/x-python",
   "name": "python",
   "nbconvert_exporter": "python",
   "pygments_lexer": "ipython3",
   "version": "3.10.9"
  }
 },
 "nbformat": 4,
 "nbformat_minor": 5
}
