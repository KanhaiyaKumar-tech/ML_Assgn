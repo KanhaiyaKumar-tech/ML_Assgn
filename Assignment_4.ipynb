{
 "cells": [
  {
   "cell_type": "code",
   "execution_count": null,
   "id": "050023cd",
   "metadata": {},
   "outputs": [],
   "source": []
  },
  {
   "cell_type": "code",
   "execution_count": null,
   "id": "ff4754c5",
   "metadata": {},
   "outputs": [],
   "source": [
    "1. What are the key tasks involved in getting ready to work with machine learning modeling?\n",
    "\n",
    "\n",
    "\n"
   ]
  },
  {
   "cell_type": "code",
   "execution_count": null,
   "id": "75461a7f",
   "metadata": {},
   "outputs": [],
   "source": [
    "Key tasks involved in getting ready to work with machine learning modeling:\n",
    "\n",
    "- Data Collection: Gathering relevant data for the problem at hand.\n",
    "\n",
    "- Data Cleaning: Removing or correcting errors, handling missing values, and dealing with outliers in the dataset.\n",
    "\n",
    "- Data Exploration and Visualization: Understanding the characteristics, distributions, and relationships within the data through exploratory data analysis and visualizations.\n",
    "\n",
    "- Feature Engineering: Transforming or creating new features from the existing dataset to enhance the predictive power of the model.\n",
    "\n",
    "- Data Preprocessing: Scaling, normalizing, or encoding the data to prepare it for modeling.\n",
    "\n",
    "- Splitting the Data: Dividing the dataset into training, validation, and test sets for model training, evaluation, and final testing.\n",
    "\n",
    "- Model Selection: Choosing the appropriate machine learning algorithm or model based on the problem's nature, available data, and desired outcomes.\n",
    "\n",
    "- Model Training and Evaluation: Training the selected model using the training set and evaluating its performance using appropriate evaluation metrics.\n",
    "\n",
    "- Hyperparameter Tuning: Optimizing the model's hyperparameters to improve its performance.\n",
    "\n",
    "\n"
   ]
  },
  {
   "cell_type": "code",
   "execution_count": null,
   "id": "de1dbcda",
   "metadata": {},
   "outputs": [],
   "source": []
  },
  {
   "cell_type": "code",
   "execution_count": null,
   "id": "814245bd",
   "metadata": {},
   "outputs": [],
   "source": [
    "2. What are the different forms of data used in machine learning? Give a specific example for each of\n",
    "them.\n",
    "\n",
    "\n"
   ]
  },
  {
   "cell_type": "code",
   "execution_count": null,
   "id": "909c2281",
   "metadata": {},
   "outputs": [],
   "source": [
    "Different forms of data used in machine learning:\n",
    "\n",
    "- Numerical Data: Data represented by numbers, such as age, height, or temperature. Example: The temperature recorded at different time intervals.\n",
    "\n",
    "- Categorical Data: Data represented by categories or labels, such as gender, color, or occupation. Example: The categories of car models, such as Sedan, SUV, or Hatchback.\n",
    "\n",
    "- Text Data: Unstructured data in the form of text, such as reviews, tweets, or articles. Example: Customer reviews of a product.\n",
    "\n",
    "- Image Data: Data represented by visual images. Example: Collection of images of cats and dogs for a classification task.\n",
    "\n",
    "- Time Series Data: Data collected at regular time intervals, such as stock prices or weather data. Example: Hourly stock prices of a particular company over a month.\n",
    "\n"
   ]
  },
  {
   "cell_type": "code",
   "execution_count": null,
   "id": "ed1c26b1",
   "metadata": {},
   "outputs": [],
   "source": []
  },
  {
   "cell_type": "code",
   "execution_count": null,
   "id": "3e4b62bd",
   "metadata": {},
   "outputs": [],
   "source": [
    "3. Distinguish:\n",
    "\n",
    "1. Numeric vs. categorical attributes\n",
    "\n",
    "2. Feature selection vs. dimensionality reduction"
   ]
  },
  {
   "cell_type": "code",
   "execution_count": null,
   "id": "4831f7c5",
   "metadata": {},
   "outputs": [],
   "source": [
    " \n",
    "\n",
    "- Numeric vs. Categorical Attributes:\n",
    "\n",
    "   - Numeric attributes represent quantities or measurements and can take on a range of numerical values. Example: Age, weight.\n",
    "\n",
    "   - Categorical attributes represent categories or labels and can take on a limited number of discrete values. Example: Gender (Male, Female), color (Red, Blue, Green).\n",
    "\n"
   ]
  },
  {
   "cell_type": "code",
   "execution_count": null,
   "id": "aedc5cb5",
   "metadata": {},
   "outputs": [],
   "source": [
    "- Feature Selection vs. Dimensionality Reduction:\n",
    "\n",
    "   - Feature Selection involves selecting a subset of the most relevant features from the original dataset. It aims to eliminate redundant or irrelevant features, reducing complexity and improving model performance.\n",
    "\n",
    "   - Dimensionality Reduction involves transforming the original high-dimensional dataset into a lower-dimensional space while preserving important information. It aims to reduce the number of features while retaining the most critical information.\n"
   ]
  },
  {
   "cell_type": "code",
   "execution_count": null,
   "id": "dfc9d833",
   "metadata": {},
   "outputs": [],
   "source": []
  },
  {
   "cell_type": "code",
   "execution_count": null,
   "id": "6fcff693",
   "metadata": {},
   "outputs": [],
   "source": [
    "4. Make quick notes on any two of the following:\n",
    "\n",
    "1. The histogram\n",
    "\n",
    "2. Use a scatter plot\n",
    "\n",
    "3.PCA (Personal Computer Aid)"
   ]
  },
  {
   "cell_type": "code",
   "execution_count": null,
   "id": "0401a9df",
   "metadata": {},
   "outputs": [],
   "source": [
    "Quick notes on two of the following:\n",
    "\n",
    "- The Histogram: A histogram is a graphical representation of the distribution of a dataset. It displays the frequencies or counts of data points falling into different intervals or \"bins.\" It helps visualize the shape, central tendency, and spread of the data.\n",
    "\n",
    "- Scatter Plot: A scatter plot is a graphical representation of the relationship between two variables. It displays individual data points as dots on a two-dimensional plane, with one variable on the x-axis and the other on the y-axis. Scatter plots help visualize the correlation or pattern between the variables.\n",
    "\n",
    "- PCA (Principal Component Analysis): PCA is a dimensionality reduction technique used to transform a high-dimensional dataset into a lower-dimensional space. It identifies the principal components, which are new orthogonal axes that capture the maximum variance in the data. PCA is useful for reducing the dimensionality of the dataset while retaining as much information as possible.\n",
    "\n",
    "\n"
   ]
  },
  {
   "cell_type": "code",
   "execution_count": null,
   "id": "9a5028d3",
   "metadata": {},
   "outputs": [],
   "source": []
  },
  {
   "cell_type": "code",
   "execution_count": null,
   "id": "29bfe52c",
   "metadata": {},
   "outputs": [],
   "source": []
  },
  {
   "cell_type": "code",
   "execution_count": null,
   "id": "29caad81",
   "metadata": {},
   "outputs": [],
   "source": [
    "5. Why is it necessary to investigate data? Is there a discrepancy in how qualitative and quantitative\n",
    "data are explored?\n",
    "\n",
    "\n"
   ]
  },
  {
   "cell_type": "code",
   "execution_count": null,
   "id": "8f349bca",
   "metadata": {},
   "outputs": [],
   "source": [
    "Investigating data is necessary to gain insights into its characteristics, patterns, and relationships. It helps in understanding the data distribution, identifying outliers, assessing data quality, and selecting appropriate features for modeling. Both qualitative and quantitative data can be explored, but the exploration techniques may differ. Qualitative data may involve textual analysis, sentiment analysis, or topic modeling, while quantitative data may involve statistical analysis, visualization, or correlation analysis.\n"
   ]
  },
  {
   "cell_type": "code",
   "execution_count": null,
   "id": "3519d201",
   "metadata": {},
   "outputs": [],
   "source": []
  },
  {
   "cell_type": "code",
   "execution_count": null,
   "id": "c841cd34",
   "metadata": {},
   "outputs": [],
   "source": [
    "6. What are the various histogram shapes? What exactly are ‘bins&#39;?\n"
   ]
  },
  {
   "cell_type": "code",
   "execution_count": null,
   "id": "4330f618",
   "metadata": {},
   "outputs": [],
   "source": [
    "Various histogram shapes:\n",
    "\n",
    "- Normal Distribution: A symmetric bell-shaped distribution, with the majority of data concentrated around the mean.\n",
    "\n",
    "- Skewed Distribution: Either positively skewed (tail to the right) or negatively skewed (tail to the left), indicating an imbalance in the data distribution.\n",
    "\n",
    "- Bimodal Distribution: Two distinct peaks in the distribution, suggesting the presence of two different subgroups or populations within the data.\n",
    "\n",
    "Bins in a histogram represent intervals or ranges into which the data is grouped or counted. The number of bins determines the granularity or level of detail in the histogram. Choosing the appropriate number of bins is important to accurately represent the underlying data distribution.\n"
   ]
  },
  {
   "cell_type": "code",
   "execution_count": null,
   "id": "7036c40b",
   "metadata": {},
   "outputs": [],
   "source": []
  },
  {
   "cell_type": "code",
   "execution_count": null,
   "id": "c591524b",
   "metadata": {},
   "outputs": [],
   "source": [
    "7. How do we deal with data outliers?\n"
   ]
  },
  {
   "cell_type": "code",
   "execution_count": null,
   "id": "085d7297",
   "metadata": {},
   "outputs": [],
   "source": [
    "Dealing with data outliers can be approached in various ways:\n",
    "\n",
    "- Removing outliers: Outliers can be identified using statistical methods such as z-score or IQR (interquartile range) and then removed from the dataset. However, removing outliers may lead to information loss or biased results, so careful consideration is necessary.\n",
    "\n",
    "- Transforming outliers: Outliers can be transformed using mathematical functions (e.g., logarithmic or square root transformation) to reduce their impact on the data.\n",
    "\n",
    "- Treating outliers separately: Outliers can be treated as a separate category or group and analyzed separately from the rest of the data.\n",
    "\n",
    "\n"
   ]
  },
  {
   "cell_type": "code",
   "execution_count": null,
   "id": "2a9f55ef",
   "metadata": {},
   "outputs": [],
   "source": []
  },
  {
   "cell_type": "code",
   "execution_count": null,
   "id": "a0ecbc70",
   "metadata": {},
   "outputs": [],
   "source": [
    "8. What are the various central inclination measures? Why does mean vary too much from median in\n",
    "certain data sets?\n",
    "\n"
   ]
  },
  {
   "cell_type": "code",
   "execution_count": null,
   "id": "f005c411",
   "metadata": {},
   "outputs": [],
   "source": [
    "Various measures of central inclination:\n",
    "\n",
    "- Mean: The average value calculated by summing all values and dividing by the number of values. The mean is sensitive to outliers.\n",
    "\n",
    "- Median: The middle value that separates the data into two equal halves when arranged in ascending or descending order. The median is less affected by outliers.\n",
    "\n",
    "- Mode: The value or values that occur most frequently in the dataset.\n",
    "\n",
    "The mean can vary significantly from the median in certain datasets when there are extreme values or outliers that pull the mean away from the central tendency of the data.\n"
   ]
  },
  {
   "cell_type": "code",
   "execution_count": null,
   "id": "2e87d24c",
   "metadata": {},
   "outputs": [],
   "source": []
  },
  {
   "cell_type": "code",
   "execution_count": null,
   "id": "ae221a23",
   "metadata": {},
   "outputs": [],
   "source": [
    "9. Describe how a scatter plot can be used to investigate bivariate relationships. Is it possible to find\n",
    "outliers using a scatter plot?\n",
    "\n"
   ]
  },
  {
   "cell_type": "code",
   "execution_count": null,
   "id": "b1dd57a9",
   "metadata": {},
   "outputs": [],
   "source": [
    "Scatter plots can be used to investigate bivariate relationships between two variables. They plot data points as individual dots, with one variable on the x-axis and the other on the y-axis. Scatter plots help visualize the pattern, direction, and strength of the relationship between the variables. Outliers can also be identified as individual data points that deviate significantly from the general pattern in the scatter plot.\n",
    "\n"
   ]
  },
  {
   "cell_type": "code",
   "execution_count": null,
   "id": "0e6e1775",
   "metadata": {},
   "outputs": [],
   "source": []
  },
  {
   "cell_type": "code",
   "execution_count": null,
   "id": "94f79202",
   "metadata": {},
   "outputs": [],
   "source": [
    "10. Describe how cross-tabs can be used to figure out how two variables are related.\n"
   ]
  },
  {
   "cell_type": "code",
   "execution_count": null,
   "id": "2623b8a1",
   "metadata": {},
   "outputs": [],
   "source": [
    "Cross-tabs, also known as contingency tables or cross-tabulations, are used to examine the relationship between two variables. They present the frequency or count of occurrences for each combination of categories between two variables. Cross-tabs can help identify associations, dependencies, or trends between variables and provide insights into their relationship and potential dependencies."
   ]
  },
  {
   "cell_type": "code",
   "execution_count": null,
   "id": "d11e6381",
   "metadata": {},
   "outputs": [],
   "source": []
  },
  {
   "cell_type": "code",
   "execution_count": null,
   "id": "be138892",
   "metadata": {},
   "outputs": [],
   "source": []
  },
  {
   "cell_type": "code",
   "execution_count": null,
   "id": "eb968456",
   "metadata": {},
   "outputs": [],
   "source": []
  },
  {
   "cell_type": "code",
   "execution_count": null,
   "id": "bb3a4bf4",
   "metadata": {},
   "outputs": [],
   "source": []
  },
  {
   "cell_type": "code",
   "execution_count": null,
   "id": "f09076e2",
   "metadata": {},
   "outputs": [],
   "source": []
  },
  {
   "cell_type": "code",
   "execution_count": null,
   "id": "22b0ffb4",
   "metadata": {},
   "outputs": [],
   "source": []
  },
  {
   "cell_type": "code",
   "execution_count": null,
   "id": "81abeb73",
   "metadata": {},
   "outputs": [],
   "source": []
  },
  {
   "cell_type": "code",
   "execution_count": null,
   "id": "e82059fd",
   "metadata": {},
   "outputs": [],
   "source": []
  },
  {
   "cell_type": "code",
   "execution_count": null,
   "id": "d438cf4d",
   "metadata": {},
   "outputs": [],
   "source": []
  },
  {
   "cell_type": "code",
   "execution_count": null,
   "id": "4711b9ef",
   "metadata": {},
   "outputs": [],
   "source": []
  },
  {
   "cell_type": "code",
   "execution_count": null,
   "id": "8c3f18c5",
   "metadata": {},
   "outputs": [],
   "source": []
  },
  {
   "cell_type": "code",
   "execution_count": null,
   "id": "047d27d0",
   "metadata": {},
   "outputs": [],
   "source": []
  },
  {
   "cell_type": "code",
   "execution_count": null,
   "id": "24a6b73d",
   "metadata": {},
   "outputs": [],
   "source": []
  }
 ],
 "metadata": {
  "kernelspec": {
   "display_name": "Python 3 (ipykernel)",
   "language": "python",
   "name": "python3"
  },
  "language_info": {
   "codemirror_mode": {
    "name": "ipython",
    "version": 3
   },
   "file_extension": ".py",
   "mimetype": "text/x-python",
   "name": "python",
   "nbconvert_exporter": "python",
   "pygments_lexer": "ipython3",
   "version": "3.10.9"
  }
 },
 "nbformat": 4,
 "nbformat_minor": 5
}
