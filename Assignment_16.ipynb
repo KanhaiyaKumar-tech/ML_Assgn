{
 "cells": [
  {
   "cell_type": "code",
   "execution_count": null,
   "id": "613739a1",
   "metadata": {},
   "outputs": [],
   "source": []
  },
  {
   "cell_type": "code",
   "execution_count": null,
   "id": "98f8e60c",
   "metadata": {},
   "outputs": [],
   "source": [
    "1. In a linear equation, what is the difference between a dependent variable and an independent\n",
    "variable?\n",
    "\n"
   ]
  },
  {
   "cell_type": "code",
   "execution_count": null,
   "id": "0b812479",
   "metadata": {},
   "outputs": [],
   "source": [
    " In a linear equation, the dependent variable is the variable being predicted or explained, while the independent variable is the variable used to predict or explain the dependent variable. The dependent variable is typically denoted as \"Y,\" while the independent variable is denoted as \"X.\"\n",
    "\n",
    " "
   ]
  },
  {
   "cell_type": "code",
   "execution_count": null,
   "id": "1aa8c6d5",
   "metadata": {},
   "outputs": [],
   "source": [
    "2. What is the concept of simple linear regression? Give a specific example.\n",
    "\n",
    "\n",
    "\n"
   ]
  },
  {
   "cell_type": "code",
   "execution_count": null,
   "id": "b472d155",
   "metadata": {},
   "outputs": [],
   "source": [
    " Simple linear regression is a statistical technique used to model the relationship between a dependent variable and a single independent variable. It assumes a linear relationship between the variables and estimates the parameters of the linear equation that best fits the data. For example, in the context of predicting house prices, we can use simple linear regression to model the relationship between the house price (dependent variable) and the size of the house in square feet (independent variable).\n",
    "\n",
    "\n"
   ]
  },
  {
   "cell_type": "code",
   "execution_count": null,
   "id": "1f930815",
   "metadata": {},
   "outputs": [],
   "source": [
    "3. In a linear regression, define the slope.\n"
   ]
  },
  {
   "cell_type": "code",
   "execution_count": null,
   "id": "6681fb9b",
   "metadata": {},
   "outputs": [],
   "source": [
    " In linear regression, the slope represents the change in the dependent variable (Y) for a unit change in the independent variable (X). It quantifies the steepness or direction of the linear relationship between the variables. It is denoted as \"β1\" in the regression equation Y = β0 + β1X + ε.\n"
   ]
  },
  {
   "cell_type": "code",
   "execution_count": null,
   "id": "43f7972f",
   "metadata": {},
   "outputs": [],
   "source": [
    "4. Determine the graph&#39;s slope, where the lower point on the line is represented as (3, 2) and the\n",
    "higher point is represented as (2, 2).\n"
   ]
  },
  {
   "cell_type": "code",
   "execution_count": null,
   "id": "4e312271",
   "metadata": {},
   "outputs": [],
   "source": [
    "The slope of a line can be determined using the formula: slope = (change in Y) / (change in X). In this case, the line is horizontal since the y-coordinate remains constant at 2 regardless of the change in the x-coordinate. Therefore, the slope is 0.\n"
   ]
  },
  {
   "cell_type": "code",
   "execution_count": null,
   "id": "69748d00",
   "metadata": {},
   "outputs": [],
   "source": [
    "5. In linear regression, what are the conditions for a positive slope?\n"
   ]
  },
  {
   "cell_type": "code",
   "execution_count": null,
   "id": "8d7644b8",
   "metadata": {},
   "outputs": [],
   "source": [
    " In linear regression, the conditions for a positive slope are:\n",
    "   - As the independent variable increases, the dependent variable also increases.\n",
    "   - The correlation between the independent and dependent variables is positive.\n",
    "   - The regression line has an upward trend.\n"
   ]
  },
  {
   "cell_type": "code",
   "execution_count": null,
   "id": "c40e7c2e",
   "metadata": {},
   "outputs": [],
   "source": [
    "6. In linear regression, what are the conditions for a negative slope?\n"
   ]
  },
  {
   "cell_type": "code",
   "execution_count": null,
   "id": "600e9473",
   "metadata": {},
   "outputs": [],
   "source": [
    " In linear regression, the conditions for a negative slope are:\n",
    "   - As the independent variable increases, the dependent variable decreases.\n",
    "   - The correlation between the independent and dependent variables is negative.\n",
    "   - The regression line has a downward trend.\n",
    "\n"
   ]
  },
  {
   "cell_type": "code",
   "execution_count": null,
   "id": "4188bff3",
   "metadata": {},
   "outputs": [],
   "source": [
    "7. What is multiple linear regression and how does it work?\n"
   ]
  },
  {
   "cell_type": "code",
   "execution_count": null,
   "id": "a4de1154",
   "metadata": {},
   "outputs": [],
   "source": [
    " Multiple linear regression is an extension of simple linear regression that involves modeling the relationship between a dependent variable and multiple independent variables. It allows for the analysis of the combined effects of multiple predictors on the outcome variable. The regression equation takes the form: Y = β0 + β1X1 + β2X2 + ... + βnXn + ε.\n"
   ]
  },
  {
   "cell_type": "code",
   "execution_count": null,
   "id": "8e4c5dc5",
   "metadata": {},
   "outputs": [],
   "source": [
    "\n",
    "\n",
    "8. In multiple linear regression, define the number of squares due to error.\n",
    "\n",
    "\n"
   ]
  },
  {
   "cell_type": "code",
   "execution_count": null,
   "id": "70016e6b",
   "metadata": {},
   "outputs": [],
   "source": [
    " In multiple linear regression, the sum of squares due to error (SSE) measures the total variation in the dependent variable that is not explained by the regression model. It quantifies the discrepancy between the observed values and the predicted values from the regression equation.\n",
    "\n"
   ]
  },
  {
   "cell_type": "code",
   "execution_count": null,
   "id": "04f8b36b",
   "metadata": {},
   "outputs": [],
   "source": [
    "9. In multiple linear regression, define the number of squares due to regression.\n"
   ]
  },
  {
   "cell_type": "code",
   "execution_count": null,
   "id": "49fd48c8",
   "metadata": {},
   "outputs": [],
   "source": [
    " In multiple linear regression, the sum of squares due to regression (SSR) measures the total variation in the dependent variable that is explained by the regression model. It quantifies how well the independent variables collectively predict the dependent variable.\n",
    "\n"
   ]
  },
  {
   "cell_type": "code",
   "execution_count": null,
   "id": "efb0ff53",
   "metadata": {},
   "outputs": [],
   "source": [
    "10. In a regression equation, what is multicollinearity?\n"
   ]
  },
  {
   "cell_type": "code",
   "execution_count": null,
   "id": "7b21adf8",
   "metadata": {},
   "outputs": [],
   "source": [
    " Multicollinearity refers to a situation in regression analysis where two or more independent variables are highly correlated with each other. It can cause problems in the estimation of regression coefficients because it becomes difficult to discern the individual effects of the correlated variables. It can also lead to unstable and unreliable coefficient estimates.\n"
   ]
  },
  {
   "cell_type": "code",
   "execution_count": null,
   "id": "ae0d962c",
   "metadata": {},
   "outputs": [],
   "source": [
    "11. What is heteroskedasticity, and what does it mean?\n",
    "\n",
    "\n"
   ]
  },
  {
   "cell_type": "code",
   "execution_count": null,
   "id": "9cdd727f",
   "metadata": {},
   "outputs": [],
   "source": [
    " Heteroskedasticity refers to a situation in regression analysis where the variability of the errors (residuals) is not constant across all levels of the independent variables. It violates the assumption of homoscedasticity, which assumes that the errors have constant variance. Heteroskedasticity can affect the accuracy of the coefficient estimates and lead to inefficient standard errors.\n",
    "\n"
   ]
  },
  {
   "cell_type": "code",
   "execution_count": null,
   "id": "f902e7c7",
   "metadata": {},
   "outputs": [],
   "source": [
    "12. Describe the concept of ridge regression.\n"
   ]
  },
  {
   "cell_type": "code",
   "execution_count": null,
   "id": "f68550c2",
   "metadata": {},
   "outputs": [],
   "source": [
    " Ridge regression is a regularization technique used in regression analysis to mitigate the problem of multicollinearity and improve the stability of coefficient estimates. It adds a penalty term to the ordinary least squares estimation, which helps shrink the regression coefficients and reduces their sensitivity to multicollinearity.\n",
    "\n"
   ]
  },
  {
   "cell_type": "code",
   "execution_count": null,
   "id": "3d87e0cf",
   "metadata": {},
   "outputs": [],
   "source": [
    "13. Describe the concept of lasso regression.\n"
   ]
  },
  {
   "cell_type": "code",
   "execution_count": null,
   "id": "c701ba46",
   "metadata": {},
   "outputs": [],
   "source": [
    "Lasso regression, also known as least absolute shrinkage and selection operator, is another regularization technique that helps address multicollinearity and perform variable selection. It adds a penalty term that encourages sparsity in the regression coefficients, forcing some coefficients to be exactly zero. This feature allows for automatic feature selection by effectively eliminating irrelevant variables from the model.\n"
   ]
  },
  {
   "cell_type": "code",
   "execution_count": null,
   "id": "f12051b2",
   "metadata": {},
   "outputs": [],
   "source": [
    "14. What is polynomial regression and how does it work?\n"
   ]
  },
  {
   "cell_type": "code",
   "execution_count": null,
   "id": "51669f5f",
   "metadata": {},
   "outputs": [],
   "source": [
    "Polynomial regression is a form of regression analysis where the relationship between the independent variable and the dependent variable is modeled as an nth-degree polynomial function. It allows for more flexible modeling of nonlinear relationships between variables. The regression equation takes the form: Y = β0 + β1X + β2X^2 + ... + βnX^n + ε.\n"
   ]
  },
  {
   "cell_type": "code",
   "execution_count": null,
   "id": "d3cba12b",
   "metadata": {},
   "outputs": [],
   "source": [
    "\n",
    "\n",
    "15. Describe the basis function.\n",
    "\n"
   ]
  },
  {
   "cell_type": "code",
   "execution_count": null,
   "id": "91fe0ef9",
   "metadata": {},
   "outputs": [],
   "source": [
    " Basis functions are mathematical functions used in polynomial regression and other non-linear regression techniques to transform the independent variables into a higher-dimensional space. They capture the non-linear relationships between variables by introducing additional features based on the original variables. Examples of basis functions include polynomial terms, exponential functions, logarithmic functions, and trigonometric functions.\n",
    "\n"
   ]
  },
  {
   "cell_type": "code",
   "execution_count": null,
   "id": "0ea3dd96",
   "metadata": {},
   "outputs": [],
   "source": [
    "16. Describe how logistic regression works.\n"
   ]
  },
  {
   "cell_type": "code",
   "execution_count": null,
   "id": "87c02977",
   "metadata": {},
   "outputs": [],
   "source": [
    " Logistic regression is a statistical model used to predict binary outcomes (e.g., yes/no, true/false) based on a set of independent variables. It estimates the probability of the outcome using a logistic function, which maps the linear combination of the predictors to a value between 0 and 1. It is commonly used in classification tasks where the dependent variable is categorical."
   ]
  },
  {
   "cell_type": "code",
   "execution_count": null,
   "id": "975d329e",
   "metadata": {},
   "outputs": [],
   "source": []
  },
  {
   "cell_type": "code",
   "execution_count": null,
   "id": "f6b7dfcb",
   "metadata": {},
   "outputs": [],
   "source": []
  },
  {
   "cell_type": "code",
   "execution_count": null,
   "id": "71f56dd3",
   "metadata": {},
   "outputs": [],
   "source": []
  },
  {
   "cell_type": "code",
   "execution_count": null,
   "id": "b57f9717",
   "metadata": {},
   "outputs": [],
   "source": []
  },
  {
   "cell_type": "code",
   "execution_count": null,
   "id": "60b21b5c",
   "metadata": {},
   "outputs": [],
   "source": []
  },
  {
   "cell_type": "code",
   "execution_count": null,
   "id": "104f709f",
   "metadata": {},
   "outputs": [],
   "source": []
  },
  {
   "cell_type": "code",
   "execution_count": null,
   "id": "41906b41",
   "metadata": {},
   "outputs": [],
   "source": []
  },
  {
   "cell_type": "code",
   "execution_count": null,
   "id": "d5cb0665",
   "metadata": {},
   "outputs": [],
   "source": []
  },
  {
   "cell_type": "code",
   "execution_count": null,
   "id": "135c5fc8",
   "metadata": {},
   "outputs": [],
   "source": []
  },
  {
   "cell_type": "code",
   "execution_count": null,
   "id": "5e270878",
   "metadata": {},
   "outputs": [],
   "source": []
  },
  {
   "cell_type": "code",
   "execution_count": null,
   "id": "8a080e7e",
   "metadata": {},
   "outputs": [],
   "source": []
  },
  {
   "cell_type": "code",
   "execution_count": null,
   "id": "c956df57",
   "metadata": {},
   "outputs": [],
   "source": []
  },
  {
   "cell_type": "code",
   "execution_count": null,
   "id": "fe870e98",
   "metadata": {},
   "outputs": [],
   "source": []
  },
  {
   "cell_type": "code",
   "execution_count": null,
   "id": "64f2f456",
   "metadata": {},
   "outputs": [],
   "source": []
  },
  {
   "cell_type": "code",
   "execution_count": null,
   "id": "ed782fcc",
   "metadata": {},
   "outputs": [],
   "source": []
  },
  {
   "cell_type": "code",
   "execution_count": null,
   "id": "307a475c",
   "metadata": {},
   "outputs": [],
   "source": []
  },
  {
   "cell_type": "code",
   "execution_count": null,
   "id": "f5c4ff7b",
   "metadata": {},
   "outputs": [],
   "source": []
  },
  {
   "cell_type": "code",
   "execution_count": null,
   "id": "c9ec2f22",
   "metadata": {},
   "outputs": [],
   "source": []
  },
  {
   "cell_type": "code",
   "execution_count": null,
   "id": "e14d074d",
   "metadata": {},
   "outputs": [],
   "source": []
  },
  {
   "cell_type": "code",
   "execution_count": null,
   "id": "a22845db",
   "metadata": {},
   "outputs": [],
   "source": []
  },
  {
   "cell_type": "code",
   "execution_count": null,
   "id": "bdf69150",
   "metadata": {},
   "outputs": [],
   "source": []
  },
  {
   "cell_type": "code",
   "execution_count": null,
   "id": "9979e1eb",
   "metadata": {},
   "outputs": [],
   "source": []
  },
  {
   "cell_type": "code",
   "execution_count": null,
   "id": "233c1964",
   "metadata": {},
   "outputs": [],
   "source": []
  },
  {
   "cell_type": "code",
   "execution_count": null,
   "id": "2c48466c",
   "metadata": {},
   "outputs": [],
   "source": []
  },
  {
   "cell_type": "code",
   "execution_count": null,
   "id": "8cdc5760",
   "metadata": {},
   "outputs": [],
   "source": []
  },
  {
   "cell_type": "code",
   "execution_count": null,
   "id": "93645938",
   "metadata": {},
   "outputs": [],
   "source": []
  },
  {
   "cell_type": "code",
   "execution_count": null,
   "id": "83732af8",
   "metadata": {},
   "outputs": [],
   "source": []
  },
  {
   "cell_type": "code",
   "execution_count": null,
   "id": "7d711db6",
   "metadata": {},
   "outputs": [],
   "source": []
  },
  {
   "cell_type": "code",
   "execution_count": null,
   "id": "22b2a1ab",
   "metadata": {},
   "outputs": [],
   "source": []
  },
  {
   "cell_type": "code",
   "execution_count": null,
   "id": "c597215e",
   "metadata": {},
   "outputs": [],
   "source": []
  },
  {
   "cell_type": "code",
   "execution_count": null,
   "id": "9c65af51",
   "metadata": {},
   "outputs": [],
   "source": []
  },
  {
   "cell_type": "code",
   "execution_count": null,
   "id": "71ace596",
   "metadata": {},
   "outputs": [],
   "source": []
  },
  {
   "cell_type": "code",
   "execution_count": null,
   "id": "442ad2fb",
   "metadata": {},
   "outputs": [],
   "source": []
  },
  {
   "cell_type": "code",
   "execution_count": null,
   "id": "cb712ccc",
   "metadata": {},
   "outputs": [],
   "source": []
  },
  {
   "cell_type": "code",
   "execution_count": null,
   "id": "a089b3a1",
   "metadata": {},
   "outputs": [],
   "source": []
  }
 ],
 "metadata": {
  "kernelspec": {
   "display_name": "Python 3 (ipykernel)",
   "language": "python",
   "name": "python3"
  },
  "language_info": {
   "codemirror_mode": {
    "name": "ipython",
    "version": 3
   },
   "file_extension": ".py",
   "mimetype": "text/x-python",
   "name": "python",
   "nbconvert_exporter": "python",
   "pygments_lexer": "ipython3",
   "version": "3.10.9"
  }
 },
 "nbformat": 4,
 "nbformat_minor": 5
}
