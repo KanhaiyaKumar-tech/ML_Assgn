{
 "cells": [
  {
   "cell_type": "code",
   "execution_count": null,
   "id": "234e942b",
   "metadata": {},
   "outputs": [],
   "source": []
  },
  {
   "cell_type": "code",
   "execution_count": null,
   "id": "19736767",
   "metadata": {},
   "outputs": [],
   "source": [
    "1. Using a graph to illustrate slope and intercept, define basic linear regression.\n",
    "\n"
   ]
  },
  {
   "cell_type": "code",
   "execution_count": null,
   "id": "939bf0a5",
   "metadata": {},
   "outputs": [],
   "source": [
    " Basic linear regression is a statistical method used to model the relationship between a dependent variable and one independent variable. It aims to find the best-fitting line that represents the linear relationship between the variables. The equation for a simple linear regression line is Y = a + bX, where Y is the dependent variable, X is the independent variable, a is the intercept, and b is the slope of the line.\n"
   ]
  },
  {
   "cell_type": "code",
   "execution_count": null,
   "id": "104fc50a",
   "metadata": {},
   "outputs": [],
   "source": [
    "2. In a graph, explain the terms rise, run, and slope.\n",
    "\n",
    "\n"
   ]
  },
  {
   "cell_type": "code",
   "execution_count": null,
   "id": "e62eb5ee",
   "metadata": {},
   "outputs": [],
   "source": [
    " In a graph, the terms rise, run, and slope are related to the steepness or inclination of a line:\n",
    "   - Rise refers to the vertical change between two points on a line.\n",
    "   - Run refers to the horizontal change between the same two points.\n",
    "   - Slope represents the ratio of the rise to the run, indicating the steepness of the line. It is calculated as the change in Y divided by the change in X.\n",
    "\n",
    "\n"
   ]
  },
  {
   "cell_type": "code",
   "execution_count": null,
   "id": "98afed90",
   "metadata": {},
   "outputs": [],
   "source": [
    "3. Use a graph to demonstrate slope, linear positive slope, and linear negative slope, as well as the\n",
    "different conditions that contribute to the slope.\n"
   ]
  },
  {
   "cell_type": "code",
   "execution_count": null,
   "id": "6b3d38d0",
   "metadata": {},
   "outputs": [],
   "source": [
    "In a graph, the slope can have different characteristics based on its value:\n",
    "   - Linear positive slope: The line slopes upward from left to right, indicating a positive relationship between the variables.\n",
    "   - Linear negative slope: The line slopes downward from left to right, indicating a negative relationship between the variables.\n",
    "   - The slope can be steep or shallow, representing the magnitude of the relationship between the variables.\n",
    "\n"
   ]
  },
  {
   "cell_type": "code",
   "execution_count": null,
   "id": "6348a110",
   "metadata": {},
   "outputs": [],
   "source": [
    "4. Use a graph to demonstrate curve linear negative slope and curve linear positive slope.\n"
   ]
  },
  {
   "cell_type": "code",
   "execution_count": null,
   "id": "4bdebb4e",
   "metadata": {},
   "outputs": [],
   "source": [
    " Curve linear negative slope: The line curves downward, indicating a negative relationship that is not strictly linear.\n",
    "   Curve linear positive slope: The line curves upward, indicating a positive relationship that is not strictly linear.\n"
   ]
  },
  {
   "cell_type": "code",
   "execution_count": null,
   "id": "3f764588",
   "metadata": {},
   "outputs": [],
   "source": [
    "5. Use a graph to show the maximum and low points of curves.\n"
   ]
  },
  {
   "cell_type": "code",
   "execution_count": null,
   "id": "45c2f56a",
   "metadata": {},
   "outputs": [],
   "source": [
    "The maximum point of a curve represents the highest value attained by the dependent variable. The lowest point represents the lowest value attained by the dependent variable. These points indicate the turning points of the curve.\n",
    "\n"
   ]
  },
  {
   "cell_type": "code",
   "execution_count": null,
   "id": "7c15f63b",
   "metadata": {},
   "outputs": [],
   "source": [
    "6. Use the formulas for a and b to explain ordinary least squares.\n"
   ]
  },
  {
   "cell_type": "code",
   "execution_count": null,
   "id": "7cd13aed",
   "metadata": {},
   "outputs": [],
   "source": [
    " In ordinary least squares (OLS) regression, the parameters a and b are estimated to minimize the sum of squared differences between the observed values and the predicted values. The intercept a represents the predicted value of the dependent variable when the independent variable is zero, and the slope b represents the change in the dependent variable associated with a one-unit change in the independent variable.\n"
   ]
  },
  {
   "cell_type": "code",
   "execution_count": null,
   "id": "42a7f1da",
   "metadata": {},
   "outputs": [],
   "source": [
    "7. Provide a step-by-step explanation of the OLS algorithm.\n"
   ]
  },
  {
   "cell_type": "code",
   "execution_count": null,
   "id": "d6e24a5b",
   "metadata": {},
   "outputs": [],
   "source": [
    " The OLS algorithm in linear regression involves the following steps:\n",
    "   1. Calculate the means of the dependent and independent variables.\n",
    "   2. Calculate the deviations of each data point from their respective means.\n",
    "   3. Multiply the deviations of the independent variable by the deviations of the dependent variable.\n",
    "   4. Sum the multiplied deviations and divide by the sum of squared deviations of the independent variable.\n",
    "   5. Calculate the slope by dividing the summed multiplied deviations by the sum of squared deviations.\n",
    "   6. Calculate the intercept by subtracting the product of the slope and the mean of the independent variable from the mean of the dependent variable.\n",
    "\n"
   ]
  },
  {
   "cell_type": "code",
   "execution_count": null,
   "id": "e34f9b93",
   "metadata": {},
   "outputs": [],
   "source": [
    "\n",
    "\n",
    "\n",
    "8. What is the regression&#39;s standard error? To represent the same, make a graph.\n"
   ]
  },
  {
   "cell_type": "code",
   "execution_count": null,
   "id": "b7384849",
   "metadata": {},
   "outputs": [],
   "source": [
    " The standard error in regression measures the average distance between the observed values and the predicted values. It provides an estimate of the variability of the regression line around the true regression line. In a graph, the standard error can be represented by the vertical distance between the observed data points and the regression line.\n"
   ]
  },
  {
   "cell_type": "code",
   "execution_count": null,
   "id": "ae815876",
   "metadata": {},
   "outputs": [],
   "source": [
    "9. Provide an example of multiple linear regression.\n"
   ]
  },
  {
   "cell_type": "code",
   "execution_count": null,
   "id": "950d5a60",
   "metadata": {},
   "outputs": [],
   "source": [
    " Multiple linear regression involves modeling the relationship between a dependent variable and multiple independent variables. It extends the concept of simple linear regression by incorporating multiple predictors in the regression equation. For example, predicting house prices using variables such as size, number of rooms, and location.\n"
   ]
  },
  {
   "cell_type": "code",
   "execution_count": null,
   "id": "8664ad10",
   "metadata": {},
   "outputs": [],
   "source": [
    "10. Describe the regression analysis assumptions and the BLUE principle.\n"
   ]
  },
  {
   "cell_type": "code",
   "execution_count": null,
   "id": "703bfe43",
   "metadata": {},
   "outputs": [],
   "source": [
    " Regression analysis assumptions include linearity, independence of errors, homoscedasticity (constant variance of errors), and normality of errors. The BLUE (Best Linear Unbiased Estimators) principle states that the OLS estimators are the best linear unbiased estimators if the assumptions of regression analysis are met.\n"
   ]
  },
  {
   "cell_type": "code",
   "execution_count": null,
   "id": "245fec5a",
   "metadata": {},
   "outputs": [],
   "source": [
    "11. Describe two major issues with regression analysis.\n",
    "\n",
    "\n"
   ]
  },
  {
   "cell_type": "code",
   "execution_count": null,
   "id": "fc99add0",
   "metadata": {},
   "outputs": [],
   "source": [
    " Two major issues with regression analysis are multicollinearity and heteroscedasticity.\n",
    "   - Multicollinearity occurs when two or more independent variables are highly correlated, which can lead to unreliable and unstable coefficient estimates.\n",
    "   - Heteroscedasticity refers to the violation of the assumption of constant variance of errors, which can affect the accuracy of coefficient estimates and hypothesis testing.\n"
   ]
  },
  {
   "cell_type": "code",
   "execution_count": null,
   "id": "0814442b",
   "metadata": {},
   "outputs": [],
   "source": [
    "12. How can the linear regression model&#39;s accuracy be improved?\n"
   ]
  },
  {
   "cell_type": "code",
   "execution_count": null,
   "id": "fd9ce6a2",
   "metadata": {},
   "outputs": [],
   "source": [
    " The accuracy of the linear regression model can be improved by considering the following:\n",
    "    - Adding more relevant independent variables that capture additional information.\n",
    "    - Transforming variables to achieve linearity or improve the fit of the model.\n",
    "    - Detecting and addressing outliers or influential observations that may affect the model.\n",
    "    - Checking for violations of assumptions and using appropriate techniques to address them.\n"
   ]
  },
  {
   "cell_type": "code",
   "execution_count": null,
   "id": "6dda92e2",
   "metadata": {},
   "outputs": [],
   "source": [
    "13. Using an example, describe the polynomial regression model in detail.\n"
   ]
  },
  {
   "cell_type": "code",
   "execution_count": null,
   "id": "2cf5a773",
   "metadata": {},
   "outputs": [],
   "source": [
    " Polynomial regression is a form of regression analysis where the relationship between the dependent variable and the independent variable is modeled as a polynomial function of a higher degree. It allows for nonlinear relationships between the variables. For example, fitting a quadratic or cubic curve to data points rather than a straight line.\n"
   ]
  },
  {
   "cell_type": "code",
   "execution_count": null,
   "id": "4e0246cd",
   "metadata": {},
   "outputs": [],
   "source": [
    "14. Provide a detailed explanation of logistic regression.\n"
   ]
  },
  {
   "cell_type": "code",
   "execution_count": null,
   "id": "1ff51d81",
   "metadata": {},
   "outputs": [],
   "source": [
    " Logistic regression is a statistical model used to predict binary outcomes or categorical outcomes with two levels. It models the probability of the outcome using a logistic function, which transforms a linear combination of predictors into a value between 0 and 1. It is commonly used for classification tasks, such as predicting whether a customer will churn or not.\n"
   ]
  },
  {
   "cell_type": "code",
   "execution_count": null,
   "id": "61873489",
   "metadata": {},
   "outputs": [],
   "source": [
    "\n",
    "\n",
    "15. What are the logistic regression assumptions?\n",
    "\n"
   ]
  },
  {
   "cell_type": "code",
   "execution_count": null,
   "id": "a4678046",
   "metadata": {},
   "outputs": [],
   "source": [
    " Logistic regression assumptions include linearity of the log-odds, independence of errors, absence of multicollinearity, and an adequate sample size. Additionally, the outcome variable should follow a binomial distribution, and the relationship between the predictors and the log-odds should be approximately linear.\n"
   ]
  },
  {
   "cell_type": "code",
   "execution_count": null,
   "id": "a44a4837",
   "metadata": {},
   "outputs": [],
   "source": [
    "16. Go through the details of maximum likelihood estimation.\n"
   ]
  },
  {
   "cell_type": "code",
   "execution_count": null,
   "id": "06ae7bb2",
   "metadata": {},
   "outputs": [],
   "source": [
    "  Maximum likelihood estimation (MLE) is a method used to estimate the parameters of a statistical model that maximizes the likelihood of the observed data. In the context of logistic regression, MLE is used to estimate the coefficients that maximize the likelihood of the observed binary outcomes given the predictor variables. It seeks the values of the coefficients that make the observed data most likely under the assumed logistic regression model.\n",
    "    "
   ]
  },
  {
   "cell_type": "code",
   "execution_count": null,
   "id": "8f0158ca",
   "metadata": {},
   "outputs": [],
   "source": []
  },
  {
   "cell_type": "code",
   "execution_count": null,
   "id": "6af141d8",
   "metadata": {},
   "outputs": [],
   "source": []
  },
  {
   "cell_type": "code",
   "execution_count": null,
   "id": "adc17319",
   "metadata": {},
   "outputs": [],
   "source": []
  },
  {
   "cell_type": "code",
   "execution_count": null,
   "id": "ba308c6a",
   "metadata": {},
   "outputs": [],
   "source": []
  },
  {
   "cell_type": "code",
   "execution_count": null,
   "id": "45a6fc85",
   "metadata": {},
   "outputs": [],
   "source": []
  },
  {
   "cell_type": "code",
   "execution_count": null,
   "id": "d4ca56d7",
   "metadata": {},
   "outputs": [],
   "source": []
  },
  {
   "cell_type": "code",
   "execution_count": null,
   "id": "7efc133a",
   "metadata": {},
   "outputs": [],
   "source": []
  },
  {
   "cell_type": "code",
   "execution_count": null,
   "id": "d3930510",
   "metadata": {},
   "outputs": [],
   "source": []
  },
  {
   "cell_type": "code",
   "execution_count": null,
   "id": "60ab7067",
   "metadata": {},
   "outputs": [],
   "source": []
  },
  {
   "cell_type": "code",
   "execution_count": null,
   "id": "5812e033",
   "metadata": {},
   "outputs": [],
   "source": []
  },
  {
   "cell_type": "code",
   "execution_count": null,
   "id": "2438bb1c",
   "metadata": {},
   "outputs": [],
   "source": []
  },
  {
   "cell_type": "code",
   "execution_count": null,
   "id": "f15a4a8b",
   "metadata": {},
   "outputs": [],
   "source": []
  },
  {
   "cell_type": "code",
   "execution_count": null,
   "id": "86378a2d",
   "metadata": {},
   "outputs": [],
   "source": []
  },
  {
   "cell_type": "code",
   "execution_count": null,
   "id": "31e91829",
   "metadata": {},
   "outputs": [],
   "source": []
  },
  {
   "cell_type": "code",
   "execution_count": null,
   "id": "2e98ac73",
   "metadata": {},
   "outputs": [],
   "source": []
  },
  {
   "cell_type": "code",
   "execution_count": null,
   "id": "f7387096",
   "metadata": {},
   "outputs": [],
   "source": []
  },
  {
   "cell_type": "code",
   "execution_count": null,
   "id": "031661a6",
   "metadata": {},
   "outputs": [],
   "source": []
  },
  {
   "cell_type": "code",
   "execution_count": null,
   "id": "94b67c74",
   "metadata": {},
   "outputs": [],
   "source": []
  },
  {
   "cell_type": "code",
   "execution_count": null,
   "id": "ec0e7068",
   "metadata": {},
   "outputs": [],
   "source": []
  },
  {
   "cell_type": "code",
   "execution_count": null,
   "id": "a330d0d3",
   "metadata": {},
   "outputs": [],
   "source": []
  },
  {
   "cell_type": "code",
   "execution_count": null,
   "id": "0866a62a",
   "metadata": {},
   "outputs": [],
   "source": []
  },
  {
   "cell_type": "code",
   "execution_count": null,
   "id": "941f3dfb",
   "metadata": {},
   "outputs": [],
   "source": []
  },
  {
   "cell_type": "code",
   "execution_count": null,
   "id": "7cdf6d37",
   "metadata": {},
   "outputs": [],
   "source": []
  },
  {
   "cell_type": "code",
   "execution_count": null,
   "id": "c147eea2",
   "metadata": {},
   "outputs": [],
   "source": []
  },
  {
   "cell_type": "code",
   "execution_count": null,
   "id": "693a67f9",
   "metadata": {},
   "outputs": [],
   "source": []
  },
  {
   "cell_type": "code",
   "execution_count": null,
   "id": "b8cdd4c1",
   "metadata": {},
   "outputs": [],
   "source": []
  },
  {
   "cell_type": "code",
   "execution_count": null,
   "id": "c827bf12",
   "metadata": {},
   "outputs": [],
   "source": []
  },
  {
   "cell_type": "code",
   "execution_count": null,
   "id": "197a6832",
   "metadata": {},
   "outputs": [],
   "source": []
  },
  {
   "cell_type": "code",
   "execution_count": null,
   "id": "97e98a14",
   "metadata": {},
   "outputs": [],
   "source": []
  },
  {
   "cell_type": "code",
   "execution_count": null,
   "id": "f94ba2a3",
   "metadata": {},
   "outputs": [],
   "source": []
  },
  {
   "cell_type": "code",
   "execution_count": null,
   "id": "71fc6d40",
   "metadata": {},
   "outputs": [],
   "source": []
  },
  {
   "cell_type": "code",
   "execution_count": null,
   "id": "0d0fabec",
   "metadata": {},
   "outputs": [],
   "source": []
  }
 ],
 "metadata": {
  "kernelspec": {
   "display_name": "Python 3 (ipykernel)",
   "language": "python",
   "name": "python3"
  },
  "language_info": {
   "codemirror_mode": {
    "name": "ipython",
    "version": 3
   },
   "file_extension": ".py",
   "mimetype": "text/x-python",
   "name": "python",
   "nbconvert_exporter": "python",
   "pygments_lexer": "ipython3",
   "version": "3.10.9"
  }
 },
 "nbformat": 4,
 "nbformat_minor": 5
}
