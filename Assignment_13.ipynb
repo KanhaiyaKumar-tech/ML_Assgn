{
 "cells": [
  {
   "cell_type": "code",
   "execution_count": null,
   "id": "df3e2f23",
   "metadata": {},
   "outputs": [],
   "source": []
  },
  {
   "cell_type": "code",
   "execution_count": null,
   "id": "bdbc3a18",
   "metadata": {},
   "outputs": [],
   "source": [
    "1. Provide an example of the concepts of Prior, Posterior, and Likelihood.\n",
    "\n"
   ]
  },
  {
   "cell_type": "code",
   "execution_count": null,
   "id": "ca317edc",
   "metadata": {},
   "outputs": [],
   "source": [
    " Example of Prior, Posterior, and Likelihood:\n",
    "\n",
    "Consider a medical test for a certain disease. \n",
    "\n",
    "- Prior probability: The probability of a person having the disease before conducting the test. For instance, if it is known that 5% of the population has the disease, the prior probability would be 0.05.\n",
    "\n",
    "- Likelihood probability: The probability of obtaining a positive test result given that the person has the disease (true positive) or given that the person does not have the disease (false positive). For example, if the test has a 90% true positive rate and a 10% false positive rate, the likelihood probabilities would be P(positive | disease) = 0.9 and P(positive | no disease) = 0.1.\n",
    "\n",
    "- Posterior probability: The updated probability of a person having the disease after considering the test result. It is calculated using Bayes' theorem by incorporating the prior probability and likelihood probabilities. For instance, if a person tests positive and the prior probability is 0.05, the posterior probability of having the disease can be calculated using Bayes' theorem.\n"
   ]
  },
  {
   "cell_type": "code",
   "execution_count": null,
   "id": "24a27179",
   "metadata": {},
   "outputs": [],
   "source": [
    "2. What role does Bayes&#39; theorem play in the concept learning principle?\n",
    "\n"
   ]
  },
  {
   "cell_type": "code",
   "execution_count": null,
   "id": "29911f87",
   "metadata": {},
   "outputs": [],
   "source": [
    " Bayes' theorem plays a crucial role in the concept learning principle by providing a framework to update the probability of a hypothesis or concept based on observed evidence or data. It allows for the incorporation of prior knowledge or beliefs (prior probability) and the assessment of the likelihood of observing the data given the hypothesis (likelihood probability) to compute the updated probability (posterior probability).\n",
    "\n"
   ]
  },
  {
   "cell_type": "code",
   "execution_count": null,
   "id": "e97fe3fa",
   "metadata": {},
   "outputs": [],
   "source": [
    "3. Offer an example of how the Nave Bayes classifier is used in real life.\n"
   ]
  },
  {
   "cell_type": "code",
   "execution_count": null,
   "id": "99a9e7bf",
   "metadata": {},
   "outputs": [],
   "source": [
    " An example of how the Naïve Bayes classifier is used in real life is spam filtering. In email systems, the Naïve Bayes classifier can be trained on a dataset of labeled emails (spam or non-spam). It learns the statistical relationships between the words or features in the email and their corresponding class. Then, when a new email arrives, the classifier calculates the posterior probability of it being spam or non-spam based on the observed words and their probabilities. The email is then classified accordingly.\n"
   ]
  },
  {
   "cell_type": "code",
   "execution_count": null,
   "id": "a2c56f3f",
   "metadata": {},
   "outputs": [],
   "source": [
    "4. Can the Nave Bayes classifier be used on continuous numeric data? If so, how can you go about\n",
    "doing it?\n",
    "\n"
   ]
  },
  {
   "cell_type": "code",
   "execution_count": null,
   "id": "745ddd92",
   "metadata": {},
   "outputs": [],
   "source": [
    "Yes, the Naïve Bayes classifier can be used on continuous numeric data. One way to handle continuous data is by discretizing it into bins or categories. For example, if the data represents heights, it can be discretized into categories such as \"short,\" \"medium,\" and \"tall.\" The classifier then operates on the probabilities of each category. Another approach is to assume a probability distribution for the continuous data, such as a normal distribution, and calculate the likelihood probability using the corresponding probability density function.\n"
   ]
  },
  {
   "cell_type": "code",
   "execution_count": null,
   "id": "f66adcb8",
   "metadata": {},
   "outputs": [],
   "source": [
    "5. What are Bayesian Belief Networks, and how do they work? What are their applications? Are they\n",
    "capable of resolving a wide range of issues?\n"
   ]
  },
  {
   "cell_type": "code",
   "execution_count": null,
   "id": "f5335697",
   "metadata": {},
   "outputs": [],
   "source": [
    "Bayesian Belief Networks (BBNs) are probabilistic graphical models that represent the dependencies between random variables using directed acyclic graphs. They work based on the principles of conditional probability and Bayes' theorem. BBNs are used for modeling complex systems and making probabilistic inferences. They find applications in various fields, such as medical diagnosis, risk assessment, fault detection, and decision support systems.\n"
   ]
  },
  {
   "cell_type": "code",
   "execution_count": null,
   "id": "28c66dde",
   "metadata": {},
   "outputs": [],
   "source": []
  },
  {
   "cell_type": "code",
   "execution_count": null,
   "id": "24f20fcc",
   "metadata": {},
   "outputs": [],
   "source": [
    "6. Passengers are checked in an airport screening system to see if there is an intruder. Let I be the\n",
    "random variable that indicates whether someone is an intruder I = 1) or not I = 0), and A be the\n",
    "variable that indicates alarm I = 0). If an intruder is detected with probability P(A = 1|I = 1) = 0.98\n",
    "and a non-intruder is detected with probability P(A = 1|I = 0) = 0.001, an alarm will be triggered,\n",
    "implying the error factor. The likelihood of an intruder in the passenger population is P(I = 1) =\n",
    "0.00001. What are the chances that an alarm would be triggered when an individual is actually an\n",
    "intruder?\n",
    "\n"
   ]
  },
  {
   "cell_type": "code",
   "execution_count": null,
   "id": "f6f32482",
   "metadata": {},
   "outputs": [],
   "source": [
    "To find the probability that an alarm would be triggered when an individual is actually an intruder, we can use Bayes' theorem.\n",
    "\n",
    "Let's denote:\n",
    "I = 1 if there is an intruder, and I = 0 if there is no intruder.\n",
    "A = 1 if an alarm is triggered, and A = 0 if no alarm is triggered.\n",
    "\n",
    "We are given:\n",
    "P(A = 1|I = 1) = 0.98 (probability of detecting an intruder)\n",
    "P(A = 1|I = 0) = 0.001 (probability of a false alarm)\n",
    "P(I = 1) = 0.00001 (likelihood of an intruder)\n",
    "\n",
    "We need to calculate:\n",
    "P(I = 1|A = 1) (probability of an individual being an intruder given that an alarm is triggered)\n",
    "\n",
    "By applying Bayes' theorem, we have:\n",
    "P(I = 1|A = 1) = P(A = 1|I = 1) * P(I = 1) / P(A = 1)\n",
    "\n",
    "To calculate P(A = 1), we can use the law of total probability:\n",
    "P(A = 1) = P(A = 1|I = 1) * P(I = 1) + P(A = 1|I = 0) * P(I = 0)\n",
    "\n",
    "Given that P(I = 0) = 1 - P(I = 1), we can substitute the values and calculate:\n",
    "P(A = 1) = 0.98 * 0.00001 + 0.001 * (1 - 0.00001)\n",
    "\n",
    "Finally, we can substitute the values of P(A = 1) and P(A = 1|I = 1) into the formula for P(I = 1|A = 1) and solve for it:\n",
    "\n",
    "P(I = 1|A = 1) = (0.98 * 0.00001) / (0.98 * 0.00001 + 0.001 * (1 - 0.00001))\n",
    "\n",
    "Calculating the expression will give us the probability that an alarm would be triggered when an individual is actually an intruder."
   ]
  },
  {
   "cell_type": "code",
   "execution_count": null,
   "id": "bf081464",
   "metadata": {},
   "outputs": [],
   "source": []
  },
  {
   "cell_type": "code",
   "execution_count": null,
   "id": "b64aed0e",
   "metadata": {},
   "outputs": [],
   "source": [
    "7. An antibiotic resistance test (random variable T) has 1% false positives (i.e., 1% of those who are\n",
    "not immune to an antibiotic display a positive result in the test) and 5% false negatives (i.e., 1% of\n",
    "those who are not resistant to an antibiotic show a positive result in the test) (i.e. 5 percent of those\n",
    "actually resistant to an antibiotic test negative). Assume that 2% of those who were screened were\n",
    "antibiotic-resistant. Calculate the likelihood that a person who tests positive is actually immune\n",
    "(random variable D).\n"
   ]
  },
  {
   "cell_type": "code",
   "execution_count": null,
   "id": "769f7caf",
   "metadata": {},
   "outputs": [],
   "source": [
    "To calculate the likelihood that a person who tests positive is actually immune (random variable D), we can use Bayes' theorem.\n",
    "\n",
    "Let's denote:\n",
    "T = 1 if the test result is positive, and T = 0 if the test result is negative.\n",
    "D = 1 if the person is immune, and D = 0 if the person is not immune.\n",
    "\n",
    "We are given:\n",
    "P(T = 1|D = 0) = 1% (false positives)\n",
    "P(T = 1|D = 1) = 5% (false negatives)\n",
    "P(D = 1) = 2% (antibiotic-resistant individuals)\n",
    "\n",
    "We need to calculate:\n",
    "P(D = 1|T = 1) (probability that a person is immune given that the test result is positive)\n",
    "\n",
    "By applying Bayes' theorem, we have:\n",
    "P(D = 1|T = 1) = P(T = 1|D = 1) * P(D = 1) / P(T = 1)\n",
    "\n",
    "To calculate P(T = 1), we can use the law of total probability:\n",
    "P(T = 1) = P(T = 1|D = 0) * P(D = 0) + P(T = 1|D = 1) * P(D = 1)\n",
    "\n",
    "Given that P(D = 0) = 1 - P(D = 1), we can substitute the values and calculate:\n",
    "P(T = 1) = 0.01 * (1 - 0.02) + 0.05 * 0.02\n",
    "\n",
    "Finally, we can substitute the values of P(T = 1) and P(T = 1|D = 1) into the formula for P(D = 1|T = 1) and solve for it:\n",
    "\n",
    "P(D = 1|T = 1) = (0.05 * 0.02) / (0.01 * (1 - 0.02) + 0.05 * 0.02)\n",
    "\n",
    "Calculating the expression will give us the likelihood that a person who tests positive is actually immune."
   ]
  },
  {
   "cell_type": "code",
   "execution_count": null,
   "id": "cde6c1bd",
   "metadata": {},
   "outputs": [],
   "source": []
  },
  {
   "cell_type": "code",
   "execution_count": null,
   "id": "40a3ab29",
   "metadata": {},
   "outputs": [],
   "source": [
    "8. In order to prepare for the test, a student knows that there will be one question in the exam that\n",
    "is either form A, B, or C. The chances of getting an A, B, or C on the exam are 30 percent, 20%, and\n",
    "50 percent, respectively. During the planning, the student solved 9 of 10 type A problems, 2 of 10\n",
    "type B problems, and 6 of 10 type C problems.\n",
    "\n",
    "1. What is the likelihood that the student can solve the exam problem?\n",
    "\n",
    "2. Given the student&#39;s solution, what is the likelihood that the problem was of form A?\n"
   ]
  },
  {
   "cell_type": "code",
   "execution_count": null,
   "id": "43499f6e",
   "metadata": {},
   "outputs": [],
   "source": [
    "1. To calculate the likelihood that the student can solve the exam problem, we can use the law of total probability. \n",
    "\n",
    "Let's denote:\n",
    "A = event that the problem is of form A\n",
    "B = event that the problem is of form B\n",
    "C = event that the problem is of form C\n",
    "\n",
    "We are given:\n",
    "P(A) = 30% = 0.3\n",
    "P(B) = 20% = 0.2\n",
    "P(C) = 50% = 0.5\n",
    "\n",
    "We also have the following information about the student's preparation:\n",
    "P(solving A given A) = 9/10 = 0.9\n",
    "P(solving B given B) = 2/10 = 0.2\n",
    "P(solving C given C) = 6/10 = 0.6\n",
    "\n",
    "To calculate the likelihood that the student can solve the exam problem, we need to consider the student's ability to solve each type of problem weighted by the probability of encountering that type of problem:\n",
    "\n",
    "P(solving) = P(solving A given A) * P(A) + P(solving B given B) * P(B) + P(solving C given C) * P(C)\n",
    "\n",
    "Substituting the values, we have:\n",
    "P(solving) = 0.9 * 0.3 + 0.2 * 0.2 + 0.6 * 0.5\n",
    "\n",
    "Calculating the expression will give us the likelihood that the student can solve the exam problem.\n",
    "\n",
    "2. Given the student's solution, we can use Bayes' theorem to calculate the likelihood that the problem was of form A.\n",
    "\n",
    "Let's denote:\n",
    "S = event that the student can solve the problem\n",
    "\n",
    "We want to find:\n",
    "P(A|S) = likelihood that the problem was of form A given the student's solution\n",
    "\n",
    "By applying Bayes' theorem, we have:\n",
    "P(A|S) = P(S|A) * P(A) / P(S)\n",
    "\n",
    "To calculate P(S), we can use the law of total probability:\n",
    "P(S) = P(S|A) * P(A) + P(S|B) * P(B) + P(S|C) * P(C)\n",
    "\n",
    "We are given:\n",
    "P(S|A) = 0.9\n",
    "P(S|B) = 0.2\n",
    "P(S|C) = 0.6\n",
    "\n",
    "Substituting the values, we have:\n",
    "P(S) = 0.9 * 0.3 + 0.2 * 0.2 + 0.6 * 0.5\n",
    "\n",
    "Finally, we can substitute the values of P(S|A), P(A), and P(S) into the formula for P(A|S) and solve for it:\n",
    "\n",
    "P(A|S) = (0.9 * 0.3) / (0.9 * 0.3 + 0.2 * 0.2 + 0.6 * 0.5)\n",
    "\n",
    "Calculating the expression will give us the likelihood that the problem was of form A given the student's solution."
   ]
  },
  {
   "cell_type": "code",
   "execution_count": null,
   "id": "6f7b531b",
   "metadata": {},
   "outputs": [],
   "source": []
  },
  {
   "cell_type": "code",
   "execution_count": null,
   "id": "ff554eed",
   "metadata": {},
   "outputs": [],
   "source": [
    "9. A bank installs a CCTV system to track and photograph incoming customers. Despite the constant\n",
    "influx of customers, we divide the timeline into 5 minute bins. There may be a customer coming into\n",
    "the bank with a 5% chance in each 5-minute time period, or there may be no customer (again, for\n",
    "simplicity, we assume that either there is 1 customer or none, not the case of multiple customers). If\n",
    "\n",
    "there is a client, the CCTV will detect them with a 99 percent probability. If there is no customer, the\n",
    "camera can take a false photograph with a 10% chance of detecting movement from other objects.\n",
    "\n",
    "1. How many customers come into the bank on a daily basis (10 hours)?\n",
    "\n",
    "2. On a daily basis, how many fake photographs (photographs taken when there is no\n",
    "customer) and how many missed photographs (photographs taken when there is a customer) are\n",
    "there?\n",
    "\n",
    "3. Explain likelihood that there is a customer if there is a photograph?\n",
    "\n"
   ]
  },
  {
   "cell_type": "code",
   "execution_count": null,
   "id": "a28e8c6e",
   "metadata": {},
   "outputs": [],
   "source": [
    "1. To calculate the number of customers coming into the bank on a daily basis, we need to consider the number of 5-minute time periods in 10 hours and the probability of a customer coming in each time period.\n",
    "\n",
    "There are 10 hours * 60 minutes = 600 minutes in total.\n",
    "\n",
    "Since each time period is 5 minutes, the number of time periods in 10 hours is 600 minutes / 5 minutes = 120 time periods.\n",
    "\n",
    "The probability of a customer coming in each time period is 5%.\n",
    "\n",
    "Therefore, the expected number of customers coming into the bank on a daily basis is 120 time periods * 5% = 6 customers.\n",
    "\n",
    "2. On a daily basis, the number of fake photographs (photographs taken when there is no customer) and missed photographs (photographs taken when there is a customer) can be calculated based on the probabilities given.\n",
    "\n",
    "The probability of a false photograph being taken (when there is no customer) is 10%.\n",
    "\n",
    "The probability of a customer being missed (photograph not taken) is 1% (since the CCTV detects customers with a 99% probability).\n",
    "\n",
    "To calculate the number of fake photographs and missed photographs on a daily basis, we multiply the probabilities by the number of time periods in 10 hours:\n",
    "\n",
    "Number of fake photographs = 120 time periods * 10% = 12 photographs\n",
    "Number of missed photographs = 120 time periods * 1% = 1.2 photographs\n",
    "\n",
    "Note that the number of missed photographs is expected to be a fraction since the CCTV may occasionally miss a customer.\n",
    "\n",
    "3. The likelihood that there is a customer if there is a photograph can be determined using Bayes' theorem.\n",
    "\n",
    "Let's denote:\n",
    "C = event that there is a customer\n",
    "P = event that there is a photograph\n",
    "\n",
    "We want to find:\n",
    "P(C|P) = likelihood that there is a customer given there is a photograph\n",
    "\n",
    "By applying Bayes' theorem, we have:\n",
    "P(C|P) = P(P|C) * P(C) / P(P)\n",
    "\n",
    "The probability of a photograph being taken given there is a customer (P(P|C)) is 99%.\n",
    "\n",
    "The probability of there being a customer (P(C)) is 5%.\n",
    "\n",
    "To calculate P(P), we need to consider the probabilities of a photograph being taken in two scenarios: when there is a customer (99%) and when there is no customer (10%).\n",
    "\n",
    "P(P) = P(P|C) * P(C) + P(P|~C) * P(~C)\n",
    "\n",
    "P(P|~C) is the probability of a photograph being taken when there is no customer, which is 10% (given in the problem).\n",
    "\n",
    "P(~C) is the probability of there being no customer, which is 1 - 5% = 95%.\n",
    "\n",
    "Substituting the values, we have:\n",
    "P(P) = 99% * 5% + 10% * 95%\n",
    "\n",
    "Finally, we can substitute the values of P(P|C), P(C), and P(P) into the formula for P(C|P) and solve for it:\n",
    "\n",
    "P(C|P) = (99% * 5%) / (99% * 5% + 10% * 95%)\n",
    "\n",
    "Calculating the expression will give us the likelihood that there is a customer given there is a photograph."
   ]
  },
  {
   "cell_type": "code",
   "execution_count": null,
   "id": "53717bd8",
   "metadata": {},
   "outputs": [],
   "source": []
  },
  {
   "cell_type": "code",
   "execution_count": null,
   "id": "c6a85aa8",
   "metadata": {},
   "outputs": [],
   "source": []
  },
  {
   "cell_type": "code",
   "execution_count": null,
   "id": "605c49e8",
   "metadata": {},
   "outputs": [],
   "source": []
  },
  {
   "cell_type": "code",
   "execution_count": null,
   "id": "9204cd59",
   "metadata": {},
   "outputs": [],
   "source": []
  },
  {
   "cell_type": "code",
   "execution_count": null,
   "id": "17b3cae1",
   "metadata": {},
   "outputs": [],
   "source": []
  },
  {
   "cell_type": "code",
   "execution_count": null,
   "id": "03e9555d",
   "metadata": {},
   "outputs": [],
   "source": [
    "10. Create the conditional probability table associated with the node Won Toss in the Bayesian Belief\n",
    "network to represent the conditional independence assumptions of the Nave Bayes classifier for the\n",
    "match winning prediction problem in Section 6.4.4."
   ]
  },
  {
   "cell_type": "code",
   "execution_count": null,
   "id": "bbb0c3c7",
   "metadata": {},
   "outputs": [],
   "source": [
    " To create the conditional probability table (CPT) associated with the node \"Won Toss\" in the Bayesian Belief Network for the match winning prediction problem, we need to specify the conditional probabilities of \"Won Toss\" given the other variables in the network. \n",
    "\n",
    "Assuming we have two other variables in the network: \"Weather\" and \"Team Performance\", we can construct the CPT for \"Won Toss\" as follows:\n",
    "\n",
    "| Weather       | Team Performance   | Won Toss = Yes  | Won Toss = No  |\n",
    "| ------------- | ----------------- | --------------- | -------------- |\n",
    "| Sunny         | Good              | 0.8             | 0.2            |\n",
    "| Sunny         | Poor              | 0.6             | 0.4            |\n",
    "| Rainy         | Good              | 0.7             | 0.3            |\n",
    "| Rainy         | Poor              | 0.5             | 0.5            |\n",
    "\n",
    "In this table, the values in the \"Won Toss\" column represent the probabilities of winning the toss given specific combinations of \"Weather\" and \"Team Performance\". The probabilities in each cell should sum up to 1 for each combination of variables.\n",
    "\n",
    "This CPT assumes conditional independence between \"Won Toss\" and the other variables \"Weather\" and \"Team Performance\" in the Nave Bayes classifier. It implies that the outcome of the toss does not directly depend on the weather or team performance, but it may have some association with them through the winning probability.\n",
    "\n",
    " "
   ]
  },
  {
   "cell_type": "code",
   "execution_count": null,
   "id": "51e3bbe8",
   "metadata": {},
   "outputs": [],
   "source": []
  },
  {
   "cell_type": "code",
   "execution_count": null,
   "id": "f06aac07",
   "metadata": {},
   "outputs": [],
   "source": []
  },
  {
   "cell_type": "code",
   "execution_count": null,
   "id": "76521a28",
   "metadata": {},
   "outputs": [],
   "source": []
  },
  {
   "cell_type": "code",
   "execution_count": null,
   "id": "bfe7d1ac",
   "metadata": {},
   "outputs": [],
   "source": []
  },
  {
   "cell_type": "code",
   "execution_count": null,
   "id": "572324ce",
   "metadata": {},
   "outputs": [],
   "source": []
  },
  {
   "cell_type": "code",
   "execution_count": null,
   "id": "f2dd86ca",
   "metadata": {},
   "outputs": [],
   "source": []
  },
  {
   "cell_type": "code",
   "execution_count": null,
   "id": "01484f9e",
   "metadata": {},
   "outputs": [],
   "source": []
  },
  {
   "cell_type": "code",
   "execution_count": null,
   "id": "26364b0d",
   "metadata": {},
   "outputs": [],
   "source": []
  },
  {
   "cell_type": "code",
   "execution_count": null,
   "id": "ff37cc89",
   "metadata": {},
   "outputs": [],
   "source": []
  },
  {
   "cell_type": "code",
   "execution_count": null,
   "id": "1298e84b",
   "metadata": {},
   "outputs": [],
   "source": []
  },
  {
   "cell_type": "code",
   "execution_count": null,
   "id": "727fa72e",
   "metadata": {},
   "outputs": [],
   "source": []
  },
  {
   "cell_type": "code",
   "execution_count": null,
   "id": "710122e9",
   "metadata": {},
   "outputs": [],
   "source": []
  },
  {
   "cell_type": "code",
   "execution_count": null,
   "id": "87f44f82",
   "metadata": {},
   "outputs": [],
   "source": []
  },
  {
   "cell_type": "code",
   "execution_count": null,
   "id": "597c873b",
   "metadata": {},
   "outputs": [],
   "source": []
  },
  {
   "cell_type": "code",
   "execution_count": null,
   "id": "b2bfb17e",
   "metadata": {},
   "outputs": [],
   "source": []
  },
  {
   "cell_type": "code",
   "execution_count": null,
   "id": "8699531b",
   "metadata": {},
   "outputs": [],
   "source": []
  },
  {
   "cell_type": "code",
   "execution_count": null,
   "id": "3f807df1",
   "metadata": {},
   "outputs": [],
   "source": []
  },
  {
   "cell_type": "code",
   "execution_count": null,
   "id": "572ef3cd",
   "metadata": {},
   "outputs": [],
   "source": []
  },
  {
   "cell_type": "code",
   "execution_count": null,
   "id": "47170a6d",
   "metadata": {},
   "outputs": [],
   "source": []
  },
  {
   "cell_type": "code",
   "execution_count": null,
   "id": "b8ccdb68",
   "metadata": {},
   "outputs": [],
   "source": []
  },
  {
   "cell_type": "code",
   "execution_count": null,
   "id": "1f2edc53",
   "metadata": {},
   "outputs": [],
   "source": []
  },
  {
   "cell_type": "code",
   "execution_count": null,
   "id": "c530debe",
   "metadata": {},
   "outputs": [],
   "source": []
  },
  {
   "cell_type": "code",
   "execution_count": null,
   "id": "1b1eae7a",
   "metadata": {},
   "outputs": [],
   "source": []
  },
  {
   "cell_type": "code",
   "execution_count": null,
   "id": "13eb6d50",
   "metadata": {},
   "outputs": [],
   "source": []
  },
  {
   "cell_type": "code",
   "execution_count": null,
   "id": "c84ecde4",
   "metadata": {},
   "outputs": [],
   "source": []
  },
  {
   "cell_type": "code",
   "execution_count": null,
   "id": "0e7905dc",
   "metadata": {},
   "outputs": [],
   "source": []
  },
  {
   "cell_type": "code",
   "execution_count": null,
   "id": "5eefd667",
   "metadata": {},
   "outputs": [],
   "source": []
  },
  {
   "cell_type": "code",
   "execution_count": null,
   "id": "76630d3f",
   "metadata": {},
   "outputs": [],
   "source": []
  },
  {
   "cell_type": "code",
   "execution_count": null,
   "id": "03521c75",
   "metadata": {},
   "outputs": [],
   "source": []
  },
  {
   "cell_type": "code",
   "execution_count": null,
   "id": "5952b8f6",
   "metadata": {},
   "outputs": [],
   "source": []
  },
  {
   "cell_type": "code",
   "execution_count": null,
   "id": "5b1ff557",
   "metadata": {},
   "outputs": [],
   "source": []
  },
  {
   "cell_type": "code",
   "execution_count": null,
   "id": "301765d9",
   "metadata": {},
   "outputs": [],
   "source": []
  },
  {
   "cell_type": "code",
   "execution_count": null,
   "id": "ab2fde73",
   "metadata": {},
   "outputs": [],
   "source": []
  }
 ],
 "metadata": {
  "kernelspec": {
   "display_name": "Python 3 (ipykernel)",
   "language": "python",
   "name": "python3"
  },
  "language_info": {
   "codemirror_mode": {
    "name": "ipython",
    "version": 3
   },
   "file_extension": ".py",
   "mimetype": "text/x-python",
   "name": "python",
   "nbconvert_exporter": "python",
   "pygments_lexer": "ipython3",
   "version": "3.10.9"
  }
 },
 "nbformat": 4,
 "nbformat_minor": 5
}
