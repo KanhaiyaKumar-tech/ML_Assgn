{
 "cells": [
  {
   "cell_type": "code",
   "execution_count": null,
   "id": "b578fecb",
   "metadata": {},
   "outputs": [],
   "source": []
  },
  {
   "cell_type": "code",
   "execution_count": null,
   "id": "30c94cc7",
   "metadata": {},
   "outputs": [],
   "source": [
    "1. A set of one-dimensional data points is given to you: 5, 10, 15, 20, 25, 30, 35. Assume that k = 2\n",
    "and that the first set of random centroid is 15, 32, and that the second set is 12, 30.\n",
    "a) Using the k-means method, create two clusters for each set of centroid described above.\n",
    "b) For each set of centroid values, calculate the SSE.\n",
    "\n",
    "\n"
   ]
  },
  {
   "cell_type": "code",
   "execution_count": null,
   "id": "62691abd",
   "metadata": {},
   "outputs": [],
   "source": [
    "1. \n",
    "a) Using the k-means method with k = 2 and the initial centroids (15, 32) and (12, 30), we can create two clusters as follows:\n",
    "- First iteration:\n",
    "   - Cluster 1: (5, 10, 15, 20, 25)\n",
    "   - Cluster 2: (30, 35)\n",
    "\n",
    "b) To calculate the Sum of Squared Errors (SSE) for each set of centroid values, we need to compute the squared distances between each data point and its assigned centroid, and then sum up these squared distances within each cluster.\n",
    "- For the centroid values (15, 32) and (12, 30):\n",
    "   - SSE = (5 - 15)^2 + (10 - 15)^2 + (15 - 15)^2 + (20 - 15)^2 + (25 - 15)^2 + (30 - 32)^2 + (35 - 32)^2\n",
    "         = 100 + 25 + 0 + 25 + 100 + 4 + 9\n",
    "         = 263\n",
    "- For the centroid values (12, 30):\n",
    "   - SSE = (5 - 12)^2 + (10 - 12)^2 + (15 - 12)^2 + (20 - 12)^2 + (25 - 12)^2 + (30 - 30)^2 + (35 - 30)^2\n",
    "         = 49 + 4 + 9 + 64 + 169 + 0 + 25\n",
    "         = 320\n",
    "\n"
   ]
  },
  {
   "cell_type": "code",
   "execution_count": null,
   "id": "f2f63d47",
   "metadata": {},
   "outputs": [],
   "source": [
    "2. Describe how the Market Basket Research makes use of association analysis concepts.\n"
   ]
  },
  {
   "cell_type": "code",
   "execution_count": null,
   "id": "80f69af0",
   "metadata": {},
   "outputs": [],
   "source": [
    "2. Market Basket Analysis makes use of association analysis concepts to discover relationships or associations between items purchased by customers. It aims to identify frequently occurring itemsets, which are sets of items that are frequently purchased together. For example, in a supermarket, if customers who buy bread also tend to buy butter, this association can be discovered through market basket analysis. The Apriori algorithm is commonly used in this context to mine association rules that represent these relationships.\n",
    "\n"
   ]
  },
  {
   "cell_type": "code",
   "execution_count": null,
   "id": "12fe9b4a",
   "metadata": {},
   "outputs": [],
   "source": [
    "3. Give an example of the Apriori algorithm for learning association rules.\n"
   ]
  },
  {
   "cell_type": "code",
   "execution_count": null,
   "id": "d1429caa",
   "metadata": {},
   "outputs": [],
   "source": [
    "3. Example of the Apriori algorithm for learning association rules:\n",
    "Suppose we have a transaction dataset with the following transactions:\n",
    "- T1: {bread, milk}\n",
    "- T2: {bread, butter}\n",
    "- T3: {bread, cheese}\n",
    "- T4: {milk, butter}\n",
    "\n",
    "To mine association rules using the Apriori algorithm, we start by finding frequent itemsets based on a minimum support threshold. Let's assume the minimum support is 50%.\n",
    "- In the first iteration, single items that meet the minimum support are frequent itemsets: {bread}, {milk}, {butter}.\n",
    "- In the second iteration, we generate candidate pairs by joining frequent itemsets from the previous iteration: {bread, milk}, {bread, butter}, {milk, butter}.\n",
    "- We count the support of each candidate pair by scanning the dataset and check if the pair appears in each transaction.\n",
    "- If the support of a candidate pair exceeds the minimum support threshold, it becomes a frequent itemset.\n",
    "- Finally, we generate association rules from the frequent itemsets by specifying a minimum confidence threshold. For example, if we set a minimum confidence of 60%, we can generate rules like {bread} -> {butter}.\n"
   ]
  },
  {
   "cell_type": "code",
   "execution_count": null,
   "id": "c90a2561",
   "metadata": {},
   "outputs": [],
   "source": [
    "4. In hierarchical clustering, how is the distance between clusters measured? Explain how this metric\n",
    "is used to decide when to end the iteration.\n"
   ]
  },
  {
   "cell_type": "code",
   "execution_count": null,
   "id": "6a6a81b2",
   "metadata": {},
   "outputs": [],
   "source": [
    "\n",
    "4. In hierarchical clustering, the distance between clusters is measured using various metrics, such as:\n",
    "- Single-linkage: The distance between two clusters is defined as the shortest distance between any pair of points, one from each cluster.\n",
    "- Complete-linkage: The distance between two clusters is defined as the maximum distance between any pair of points, one from each cluster.\n",
    "- Average-linkage: The distance between two clusters is defined as the average distance between all pairs of points, one from each cluster.\n",
    "These distance metrics are used to decide when to end the iteration by determining when to merge or stop merging clusters based on a predefined threshold or stopping criterion.\n"
   ]
  },
  {
   "cell_type": "code",
   "execution_count": null,
   "id": "088ec328",
   "metadata": {},
   "outputs": [],
   "source": [
    "5. In the k-means algorithm, how do you recompute the cluster centroids?\n"
   ]
  },
  {
   "cell_type": "code",
   "execution_count": null,
   "id": "8013aeaa",
   "metadata": {},
   "outputs": [],
   "source": [
    "\n",
    "5. In the k-means algorithm, cluster centroids are recomputed by taking the mean (average) of all data points assigned to each cluster. This involves calculating the centroid coordinates by averaging the coordinates of all data points within a cluster along each dimension.\n",
    "\n"
   ]
  },
  {
   "cell_type": "code",
   "execution_count": null,
   "id": "776e31d6",
   "metadata": {},
   "outputs": [],
   "source": [
    "6. At the start of the clustering exercise, discuss one method for determining the required number of\n",
    "clusters.\n"
   ]
  },
  {
   "cell_type": "code",
   "execution_count": null,
   "id": "ef3fd118",
   "metadata": {},
   "outputs": [],
   "source": [
    "6. One method for determining the required number of clusters at the start of the clustering exercise is the elbow method. This method involves plotting the SSE (Sum of Squared Errors) against the number of clusters. The number of clusters at the \"elbow\" point on the graph, where the SSE starts to level off, is considered a reasonable choice for the optimal number of clusters.\n"
   ]
  },
  {
   "cell_type": "code",
   "execution_count": null,
   "id": "0f077160",
   "metadata": {},
   "outputs": [],
   "source": [
    "7. Discuss the k-means algorithm&#39;s advantages and disadvantages.\n"
   ]
  },
  {
   "cell_type": "code",
   "execution_count": null,
   "id": "50758063",
   "metadata": {},
   "outputs": [],
   "source": [
    "\n",
    "7. Advantages of the k-means algorithm:\n",
    "- Simple and easy to implement.\n",
    "- Scalable to large datasets.\n",
    "- Fast convergence.\n",
    "- Works well with globular (spherical) clusters.\n",
    "\n",
    "\n",
    "Disadvantages of the k-means algorithm:\n",
    "- Requires the number of clusters to be specified in advance.\n",
    "- Sensitive to the initial placement of centroids.\n",
    "- Assumes clusters have a similar size and density.\n",
    "- May converge to local optima.\n"
   ]
  },
  {
   "cell_type": "code",
   "execution_count": null,
   "id": "f00532a6",
   "metadata": {},
   "outputs": [],
   "source": [
    "\n",
    "8. Draw a diagram to demonstrate the principle of clustering.\n"
   ]
  },
  {
   "cell_type": "code",
   "execution_count": null,
   "id": "8dd21cf9",
   "metadata": {},
   "outputs": [],
   "source": [
    "\n",
    "8. The diagram below demonstrates the principle of clustering:\n",
    "```\n",
    "              Data Points\n",
    "                   |\n",
    "                   |\n",
    "              Clusters\n",
    "```\n",
    "The data points represent the input dataset, and the clusters represent the groups or clusters formed during the clustering process. Each data point is assigned to a specific cluster based on its similarity to other data points.\n"
   ]
  },
  {
   "cell_type": "code",
   "execution_count": null,
   "id": "d419ebbb",
   "metadata": {},
   "outputs": [],
   "source": []
  },
  {
   "cell_type": "code",
   "execution_count": null,
   "id": "89719b3c",
   "metadata": {},
   "outputs": [],
   "source": [
    "9. During your study, you discovered seven findings, which are listed in the data points below. Using\n",
    "the K-means algorithm, you want to build three clusters from these observations. The clusters C1,\n",
    "C2, and C3 have the following findings after the first iteration:\n",
    "\n",
    "C1: (2,2), (4,4), (6,6); C2: (2,2), (4,4), (6,6); C3: (2,2), (4,4),\n",
    "\n",
    "C2: (0,4), (4,0), (0,4), (0,4), (0,4), (0,4), (0,4), (0,4), (0,\n",
    "\n",
    "C3: (5,5) and (9,9)\n",
    "\n",
    "What would the cluster centroids be if you were to run a second iteration? What would this\n",
    "clustering&#39;s SSE be?\n",
    "\n"
   ]
  },
  {
   "cell_type": "code",
   "execution_count": null,
   "id": "127068fc",
   "metadata": {},
   "outputs": [],
   "source": [
    "\n",
    "9. After the first iteration, the cluster centroids for C1, C2, and C3 are as follows:\n",
    "- C1: (4, 4)\n",
    "- C2: (0, 4)\n",
    "- C3: (7, 7)\n",
    "\n",
    "The SSE for this clustering can be calculated as follows:\n",
    "- SSE = (2 - 4)^2 + (4 - 4)^2 + (6 - 4)^2 + (2 - 0)^2 + (4 - 0)^2 + (2 - 0)^2 + (4 - 0)^2 + (2 - 0)^2 + (5 - 7)^2 + (9 - 7)^2\n",
    "      = 4 + 0 + 4 + 4 + 16 + 4 + 16 + 4 + 4 + 4\n",
    "      = 60\n"
   ]
  },
  {
   "cell_type": "code",
   "execution_count": null,
   "id": "396e8d13",
   "metadata": {},
   "outputs": [],
   "source": []
  },
  {
   "cell_type": "code",
   "execution_count": null,
   "id": "f1a49df0",
   "metadata": {},
   "outputs": [],
   "source": [
    "10. In a software project, the team is attempting to determine if software flaws discovered during\n",
    "testing are identical. Based on the text analytics of the defect details, they decided to build 5 clusters\n",
    "of related defects. Any new defect formed after the 5 clusters of defects have been identified must\n",
    "be listed as one of the forms identified by clustering. A simple diagram can be used to explain this\n",
    "process. Assume you have 20 defect data points that are clustered into 5 clusters and you used the\n",
    "k-means algorithm."
   ]
  },
  {
   "cell_type": "code",
   "execution_count": null,
   "id": "bbf5890c",
   "metadata": {},
   "outputs": [],
   "source": [
    "\n",
    "10. In the given scenario, the k-means algorithm is used to cluster 20 defect data points into 5 clusters. The clusters represent different groups of related defects. Once the initial clustering is\n",
    "\n",
    " done, any new defect that arises after the identification of the 5 clusters will be assigned to one of the existing clusters based on its similarity to the previously identified forms. This ensures that new defects are categorized with the appropriate cluster, maintaining consistency in the identified defect forms.\n",
    "    "
   ]
  },
  {
   "cell_type": "code",
   "execution_count": null,
   "id": "bdbeade1",
   "metadata": {},
   "outputs": [],
   "source": []
  },
  {
   "cell_type": "code",
   "execution_count": null,
   "id": "4959d9c7",
   "metadata": {},
   "outputs": [],
   "source": []
  },
  {
   "cell_type": "code",
   "execution_count": null,
   "id": "8fd2d6cd",
   "metadata": {},
   "outputs": [],
   "source": []
  },
  {
   "cell_type": "code",
   "execution_count": null,
   "id": "a9bc4cbb",
   "metadata": {},
   "outputs": [],
   "source": []
  },
  {
   "cell_type": "code",
   "execution_count": null,
   "id": "93c4514f",
   "metadata": {},
   "outputs": [],
   "source": []
  },
  {
   "cell_type": "code",
   "execution_count": null,
   "id": "80ce32e8",
   "metadata": {},
   "outputs": [],
   "source": []
  },
  {
   "cell_type": "code",
   "execution_count": null,
   "id": "fbf4405a",
   "metadata": {},
   "outputs": [],
   "source": []
  },
  {
   "cell_type": "code",
   "execution_count": null,
   "id": "3169669c",
   "metadata": {},
   "outputs": [],
   "source": []
  },
  {
   "cell_type": "code",
   "execution_count": null,
   "id": "d853a474",
   "metadata": {},
   "outputs": [],
   "source": []
  }
 ],
 "metadata": {
  "kernelspec": {
   "display_name": "Python 3 (ipykernel)",
   "language": "python",
   "name": "python3"
  },
  "language_info": {
   "codemirror_mode": {
    "name": "ipython",
    "version": 3
   },
   "file_extension": ".py",
   "mimetype": "text/x-python",
   "name": "python",
   "nbconvert_exporter": "python",
   "pygments_lexer": "ipython3",
   "version": "3.10.9"
  }
 },
 "nbformat": 4,
 "nbformat_minor": 5
}
