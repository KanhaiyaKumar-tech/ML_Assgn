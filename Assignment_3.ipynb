{
 "cells": [
  {
   "cell_type": "code",
   "execution_count": null,
   "id": "260814dc",
   "metadata": {},
   "outputs": [],
   "source": []
  },
  {
   "cell_type": "code",
   "execution_count": null,
   "id": "38512f42",
   "metadata": {},
   "outputs": [],
   "source": [
    "1.Explain the term machine learning, and how does it work? Explain two machine learning\n",
    "applications in the business world. What are some of the ethical concerns that machine learning\n",
    "applications could raise?\n",
    "\n"
   ]
  },
  {
   "cell_type": "code",
   "execution_count": null,
   "id": "77a6a378",
   "metadata": {},
   "outputs": [],
   "source": [
    "Machine Learning:\n",
    "\n",
    "Machine learning is a field of artificial intelligence that involves the development of algorithms and models that enable computers to learn and make predictions or decisions without being explicitly programmed. It works by training models on large amounts of data, allowing them to identify patterns, correlations, and trends. Two machine learning applications in the business world are:\n",
    "\n",
    "a) Fraud Detection: Machine learning algorithms can analyze vast amounts of transaction data to detect patterns indicative of fraudulent activities. By learning from past fraud cases, the models can identify potential fraud in real-time, helping businesses minimize financial losses.\n",
    "\n",
    "b) Customer Segmentation: Machine learning can be used to segment customers based on their behaviors, preferences, or demographic information. By clustering customers into distinct groups, businesses can target specific marketing campaigns or tailor personalized recommendations to improve customer satisfaction and loyalty.\n",
    "\n",
    "Ethical Concerns of Machine Learning Applications:\n",
    "\n",
    "Some ethical concerns that machine learning applications could raise include:\n",
    "\n",
    "- Privacy: Machine learning often requires access to large amounts of personal data, raising concerns about the privacy and security of individuals' information.\n",
    "\n",
    "- Bias and Discrimination: If training data used for machine learning models is biased or discriminatory, it can lead to biased predictions or decisions. This can perpetuate unfair treatment or reinforce societal biases.\n",
    "\n",
    "- Lack of Transparency: Some machine learning algorithms, such as deep learning neural networks, can be difficult to interpret and explain their decision-making process. This lack of transparency raises concerns about accountability and trustworthiness.\n",
    "\n",
    "- Job Displacement: As machine learning and automation advance, there may be concerns about job displacement and the impact on the workforce.\n",
    "\n"
   ]
  },
  {
   "cell_type": "code",
   "execution_count": null,
   "id": "fa77c5a0",
   "metadata": {},
   "outputs": [],
   "source": []
  },
  {
   "cell_type": "code",
   "execution_count": null,
   "id": "45800c96",
   "metadata": {},
   "outputs": [],
   "source": [
    "2. Describe the process of human learning:\n",
    "i. Under the supervision of experts\n",
    "\n",
    "ii. With the assistance of experts in an indirect manner\n",
    "\n",
    "iii. Self-education\n",
    "\n"
   ]
  },
  {
   "cell_type": "code",
   "execution_count": null,
   "id": "962e33ce",
   "metadata": {},
   "outputs": [],
   "source": [
    "Process of Human Learning:\n",
    "\n",
    "i. Under the Supervision of Experts: In this process, individuals learn under the guidance and supervision of experts who provide instruction, feedback, and guidance. The experts provide structured learning experiences, monitor progress, and offer support. For example, a student learning to play the piano with a piano teacher.\n",
    "\n",
    "ii. With the Assistance of Experts in an Indirect Manner: In this process, individuals learn indirectly from experts through various resources such as books, online courses, or educational materials. The experts provide knowledge and guidance through these resources, but direct interaction is limited. For example, self-study using online tutorials to learn coding.\n",
    "\n",
    "iii. Self-Education: In this process, individuals take responsibility for their own learning and acquire knowledge or skills through self-directed efforts. They explore resources, experiment, and learn through trial and error. For example, learning a new hobby or skill through online tutorials and practice.\n"
   ]
  },
  {
   "cell_type": "code",
   "execution_count": null,
   "id": "9400d254",
   "metadata": {},
   "outputs": [],
   "source": []
  },
  {
   "cell_type": "code",
   "execution_count": null,
   "id": "fbf0a334",
   "metadata": {},
   "outputs": [],
   "source": []
  },
  {
   "cell_type": "code",
   "execution_count": null,
   "id": "8b68c1f5",
   "metadata": {},
   "outputs": [],
   "source": []
  },
  {
   "cell_type": "code",
   "execution_count": null,
   "id": "d9617d11",
   "metadata": {},
   "outputs": [],
   "source": [
    "3. Provide a few examples of various types of machine learning.\n",
    "\n"
   ]
  },
  {
   "cell_type": "code",
   "execution_count": null,
   "id": "00087c35",
   "metadata": {},
   "outputs": [],
   "source": [
    "Examples of Various Types of Machine Learning:\n",
    "\n",
    "- Supervised Learning: Training a model to classify emails as spam or non-spam based on labeled examples of emails.\n",
    "\n",
    "- Unsupervised Learning: Clustering customer data to identify segments or patterns for targeted marketing campaigns.\n",
    "\n",
    "- Reinforcement Learning: Training an autonomous robot to navigate a maze by providing rewards for correct actions and penalties for incorrect actions.\n",
    "\n",
    "- Semi-Supervised Learning: Using a combination of labeled and unlabeled data to train a model for sentiment analysis of customer reviews.\n",
    "\n"
   ]
  },
  {
   "cell_type": "code",
   "execution_count": null,
   "id": "1add8146",
   "metadata": {},
   "outputs": [],
   "source": []
  },
  {
   "cell_type": "code",
   "execution_count": null,
   "id": "0b9e82c0",
   "metadata": {},
   "outputs": [],
   "source": [
    "4. Examine the various forms of machine learning."
   ]
  },
  {
   "cell_type": "code",
   "execution_count": null,
   "id": "f593b095",
   "metadata": {},
   "outputs": [],
   "source": [
    "Forms of Machine Learning:\n",
    "\n",
    "- Supervised Learning: The algorithm learns from labeled training data, where inputs are paired with corresponding outputs.\n",
    "\n",
    "- Unsupervised Learning: The algorithm learns patterns or structures in unlabeled data without explicit guidance or labeled examples.\n",
    "\n",
    "- Semi-Supervised Learning: The algorithm learns from a combination of labeled and unlabeled data.\n",
    "\n",
    "- Reinforcement Learning: The algorithm learns by interacting with an environment, receiving rewards or punishments based on its actions.\n",
    "\n",
    "- Transfer Learning: The algorithm leverages knowledge or pre-trained models from one task or domain to improve performance on another related task or domain.\n",
    "\n",
    "- Deep Learning: A subset of machine learning that uses artificial neural networks with multiple layers to extract complex features and patterns from data.\n"
   ]
  },
  {
   "cell_type": "code",
   "execution_count": null,
   "id": "57746162",
   "metadata": {},
   "outputs": [],
   "source": []
  },
  {
   "cell_type": "code",
   "execution_count": null,
   "id": "0e7da6de",
   "metadata": {},
   "outputs": [],
   "source": [
    "5. Can you explain what a well-posed learning problem is? Explain the main characteristics that must\n",
    "be present to identify a learning problem properly.\n",
    "\n"
   ]
  },
  {
   "cell_type": "code",
   "execution_count": null,
   "id": "f6648416",
   "metadata": {},
   "outputs": [],
   "source": [
    "Well-Posed Learning Problem:\n",
    "\n",
    "A well-posed learning problem refers to a problem that possesses the following characteristics:\n",
    "\n",
    "- Clearly Defined: The problem should have a clear and unambiguous statement of what needs to be learned or predicted.\n",
    "\n",
    "- Accessible Data: There should be sufficient and relevant data available to learn from.\n",
    "\n",
    "- Target Variable: The problem should have a specific target variable that the model aims to predict or classify.\n",
    "\n",
    "- Evaluation Metrics: There should be well-defined metrics to evaluate the performance of the learning algorithm.\n",
    "\n",
    "- Feasible Solution: The problem should have a reasonable expectation that a learning algorithm can learn and provide a satisfactory solution.\n",
    "\n"
   ]
  },
  {
   "cell_type": "code",
   "execution_count": null,
   "id": "b4d1bb9f",
   "metadata": {},
   "outputs": [],
   "source": []
  },
  {
   "cell_type": "code",
   "execution_count": null,
   "id": "922d0f90",
   "metadata": {},
   "outputs": [],
   "source": [
    "6. Is machine learning capable of solving all problems? Give a detailed explanation of your answer.\n",
    "\n"
   ]
  },
  {
   "cell_type": "code",
   "execution_count": null,
   "id": "4074d773",
   "metadata": {},
   "outputs": [],
   "source": [
    "Machine Learning Capabilities:\n",
    "\n",
    "Machine learning is a powerful tool for solving a wide range of problems, but it is not capable of solving all problems. Some limitations include:\n",
    "\n",
    "- Lack of Sufficient Data: Machine learning algorithms require large amounts of labeled data to learn effectively. If there is a scarcity of data or the data is not representative, the performance may suffer.\n",
    "\n",
    "- Unstructured Problems: Machine learning may struggle with problems that lack clear patterns or well-defined features. Complex tasks requiring high-level reasoning or common-sense understanding are challenging for machine learning algorithms.\n",
    "\n",
    "- Ethical and Moral Decisions: Machine learning algorithms lack moral reasoning or ethical understanding, making it important for humans to consider the implications and biases in the algorithms' outputs.\n",
    "\n",
    "- Dynamic and Evolving Environments: Machine learning models may struggle to adapt to rapidly changing environments where data distributions shift over time.\n"
   ]
  },
  {
   "cell_type": "code",
   "execution_count": null,
   "id": "026f9839",
   "metadata": {},
   "outputs": [],
   "source": []
  },
  {
   "cell_type": "code",
   "execution_count": null,
   "id": "8e23cd2f",
   "metadata": {},
   "outputs": [],
   "source": [
    "7. What are the various methods and technologies for solving machine learning problems? Any two\n",
    "of them should be defined in detail.\n",
    "\n",
    "\n"
   ]
  },
  {
   "cell_type": "code",
   "execution_count": null,
   "id": "0670544c",
   "metadata": {},
   "outputs": [],
   "source": [
    "Methods and Technologies for Solving Machine Learning Problems:\n",
    "\n",
    "- Supervised Learning: Using labeled data, algorithms learn patterns to make predictions or classify new instances.\n",
    "\n",
    "- Unsupervised Learning: Algorithms discover patterns, structures, or relationships in unlabeled data without explicit guidance.\n",
    "\n",
    "- Deep Learning: A subfield of machine learning that uses artificial neural networks with multiple layers to extract complex features from data.\n",
    "\n",
    "- Reinforcement Learning: Algorithms learn optimal actions by interacting with an environment, receiving rewards or penalties based on their behavior.\n",
    "\n",
    "- Transfer Learning: Leveraging pre-trained models or knowledge from one task or domain to improve performance on related tasks or domains.\n",
    "\n",
    "\n"
   ]
  },
  {
   "cell_type": "code",
   "execution_count": null,
   "id": "ef69436b",
   "metadata": {},
   "outputs": [],
   "source": []
  },
  {
   "cell_type": "code",
   "execution_count": null,
   "id": "ad4d3703",
   "metadata": {},
   "outputs": [],
   "source": [
    "8. Can you explain the various forms of supervised learning? Explain each one with an example\n",
    "application."
   ]
  },
  {
   "cell_type": "code",
   "execution_count": null,
   "id": "4f50ddfc",
   "metadata": {},
   "outputs": [],
   "source": [
    "Forms of Supervised Learning:\n",
    "\n",
    "- Classification: The algorithm learns from labeled examples to assign new instances to predefined classes. Example: Classifying emails as spam or non-spam.\n",
    "\n",
    "- Regression: The algorithm learns from labeled data to predict continuous numerical values. Example: Predicting house prices based on features like size, location, and number of rooms.\n"
   ]
  },
  {
   "cell_type": "code",
   "execution_count": null,
   "id": "f6c9d928",
   "metadata": {},
   "outputs": [],
   "source": []
  },
  {
   "cell_type": "code",
   "execution_count": null,
   "id": "aad089b1",
   "metadata": {},
   "outputs": [],
   "source": [
    "9. What is the difference between supervised and unsupervised learning? With a sample application\n",
    "in each region, explain the differences.\n",
    "\n",
    "\n",
    "\n"
   ]
  },
  {
   "cell_type": "code",
   "execution_count": null,
   "id": "87fc2e31",
   "metadata": {},
   "outputs": [],
   "source": [
    "Difference between Supervised and Unsupervised Learning:\n",
    "\n",
    "- Supervised Learning: Learns from labeled examples to make predictions or classify new instances. Example: Predicting customer churn based on historical data with labeled churn or non-churn labels.\n",
    "\n",
    "- Unsupervised Learning: Learns patterns or structures in unlabeled data without explicit guidance. Example: Clustering customer data to identify natural groups or segments for targeted marketing campaigns.\n"
   ]
  },
  {
   "cell_type": "code",
   "execution_count": null,
   "id": "87597d5f",
   "metadata": {},
   "outputs": [],
   "source": []
  },
  {
   "cell_type": "code",
   "execution_count": null,
   "id": "6ac068b6",
   "metadata": {},
   "outputs": [],
   "source": []
  },
  {
   "cell_type": "code",
   "execution_count": null,
   "id": "cc41dfdd",
   "metadata": {},
   "outputs": [],
   "source": [
    "10. Describe the machine learning process in depth.\n",
    "\n",
    "a. Make brief notes on any two of the following:\n",
    "\n",
    "MATLAB is one of the most widely used programming languages.\n",
    "\n",
    "ii. Deep learning applications in healthcare\n",
    "\n",
    "iii. Study of the market basket\n",
    "\n",
    "iv. Linear regression (simple)"
   ]
  },
  {
   "cell_type": "code",
   "execution_count": null,
   "id": "8efd3c4f",
   "metadata": {},
   "outputs": [],
   "source": [
    "\n",
    "\n",
    "Machine Learning Process:\n",
    "\n",
    "a. Data Collection: Gathering relevant data for the problem at hand.\n",
    "\n",
    "b. Data Preprocessing: Cleaning, transforming, and preparing the data for analysis.\n",
    "\n",
    "c. Feature Selection/Extraction: Identifying relevant features or extracting informative representations from the data.\n",
    "\n",
    "d. Model Selection: Choosing an appropriate machine learning algorithm or model.\n",
    "\n",
    "e. Model Training: Training the selected model using the labeled training data.\n",
    "\n",
    "f. Model Evaluation: Assessing the model's performance using evaluation metrics and validation techniques.\n",
    "\n",
    "g. Hyperparameter Tuning: Optimizing the model's hyperparameters to improve performance.\n",
    "\n",
    "h. Final Model Deployment: Deploying the trained model in real-world applications for predictions or decision-making.\n",
    "\n"
   ]
  },
  {
   "cell_type": "code",
   "execution_count": null,
   "id": "0bc1c91f",
   "metadata": {},
   "outputs": [],
   "source": []
  },
  {
   "cell_type": "code",
   "execution_count": null,
   "id": "6e61610e",
   "metadata": {},
   "outputs": [],
   "source": []
  },
  {
   "cell_type": "code",
   "execution_count": null,
   "id": "c866cd70",
   "metadata": {},
   "outputs": [],
   "source": []
  },
  {
   "cell_type": "code",
   "execution_count": null,
   "id": "34361ba2",
   "metadata": {},
   "outputs": [],
   "source": []
  },
  {
   "cell_type": "code",
   "execution_count": null,
   "id": "e8eeabb2",
   "metadata": {},
   "outputs": [],
   "source": []
  },
  {
   "cell_type": "code",
   "execution_count": null,
   "id": "8cdbb854",
   "metadata": {},
   "outputs": [],
   "source": [
    "11. Make a comparison between:-\n",
    "\n",
    "1. Generalization and abstraction\n",
    "\n",
    "2. Learning that is guided and unsupervised\n",
    "\n",
    "3. Regression and classification"
   ]
  },
  {
   "cell_type": "code",
   "execution_count": null,
   "id": "7a2bc37b",
   "metadata": {},
   "outputs": [],
   "source": [
    "Comparison:\n",
    "\n",
    "- Generalization and Abstraction: Generalization refers to the ability of a model to perform well on new, unseen data. Abstraction, on the other hand, involves simplifying complex information by capturing essential characteristics or patterns. Generalization is a goal in machine learning, while abstraction is a method used in various stages of the learning process to simplify data representation.\n",
    "\n",
    "- Learning that is Guided and Unsupervised: Guided learning, such as supervised learning, involves learning with explicit guidance or labeled examples. Unsupervised learning, on the other hand, does not have explicit guidance or labeled data. It discovers patterns or structures in unlabeled data independently.\n",
    "\n",
    "- Regression and Classification: Regression involves predicting continuous numerical values based on input variables. Classification, on the other hand, involves assigning data points to predefined classes or categories. The main distinction is that regression deals with continuous outcomes, while classification deals with discrete outcomes."
   ]
  },
  {
   "cell_type": "code",
   "execution_count": null,
   "id": "bfc91891",
   "metadata": {},
   "outputs": [],
   "source": []
  },
  {
   "cell_type": "code",
   "execution_count": null,
   "id": "1cbd1009",
   "metadata": {},
   "outputs": [],
   "source": []
  },
  {
   "cell_type": "code",
   "execution_count": null,
   "id": "d4c2e67b",
   "metadata": {},
   "outputs": [],
   "source": []
  },
  {
   "cell_type": "code",
   "execution_count": null,
   "id": "8ad783ba",
   "metadata": {},
   "outputs": [],
   "source": []
  },
  {
   "cell_type": "code",
   "execution_count": null,
   "id": "956de137",
   "metadata": {},
   "outputs": [],
   "source": []
  },
  {
   "cell_type": "code",
   "execution_count": null,
   "id": "abd6afd2",
   "metadata": {},
   "outputs": [],
   "source": []
  },
  {
   "cell_type": "code",
   "execution_count": null,
   "id": "02ff85c1",
   "metadata": {},
   "outputs": [],
   "source": []
  },
  {
   "cell_type": "code",
   "execution_count": null,
   "id": "19e606f1",
   "metadata": {},
   "outputs": [],
   "source": []
  },
  {
   "cell_type": "code",
   "execution_count": null,
   "id": "9296ceb4",
   "metadata": {},
   "outputs": [],
   "source": []
  },
  {
   "cell_type": "code",
   "execution_count": null,
   "id": "a81be570",
   "metadata": {},
   "outputs": [],
   "source": []
  },
  {
   "cell_type": "code",
   "execution_count": null,
   "id": "01341eff",
   "metadata": {},
   "outputs": [],
   "source": []
  },
  {
   "cell_type": "code",
   "execution_count": null,
   "id": "27d6a64a",
   "metadata": {},
   "outputs": [],
   "source": []
  },
  {
   "cell_type": "code",
   "execution_count": null,
   "id": "30b35257",
   "metadata": {},
   "outputs": [],
   "source": []
  },
  {
   "cell_type": "code",
   "execution_count": null,
   "id": "d705c62b",
   "metadata": {},
   "outputs": [],
   "source": []
  },
  {
   "cell_type": "code",
   "execution_count": null,
   "id": "be16863c",
   "metadata": {},
   "outputs": [],
   "source": []
  },
  {
   "cell_type": "code",
   "execution_count": null,
   "id": "b0dfaf55",
   "metadata": {},
   "outputs": [],
   "source": []
  },
  {
   "cell_type": "code",
   "execution_count": null,
   "id": "80bd2e1d",
   "metadata": {},
   "outputs": [],
   "source": []
  },
  {
   "cell_type": "code",
   "execution_count": null,
   "id": "35e4357a",
   "metadata": {},
   "outputs": [],
   "source": []
  },
  {
   "cell_type": "code",
   "execution_count": null,
   "id": "14fc3d6e",
   "metadata": {},
   "outputs": [],
   "source": []
  },
  {
   "cell_type": "code",
   "execution_count": null,
   "id": "44d5314e",
   "metadata": {},
   "outputs": [],
   "source": []
  },
  {
   "cell_type": "code",
   "execution_count": null,
   "id": "5a729933",
   "metadata": {},
   "outputs": [],
   "source": []
  },
  {
   "cell_type": "code",
   "execution_count": null,
   "id": "a645b9c2",
   "metadata": {},
   "outputs": [],
   "source": []
  },
  {
   "cell_type": "code",
   "execution_count": null,
   "id": "acd171a9",
   "metadata": {},
   "outputs": [],
   "source": []
  },
  {
   "cell_type": "code",
   "execution_count": null,
   "id": "9ee0461d",
   "metadata": {},
   "outputs": [],
   "source": []
  },
  {
   "cell_type": "code",
   "execution_count": null,
   "id": "f0a3754e",
   "metadata": {},
   "outputs": [],
   "source": []
  },
  {
   "cell_type": "code",
   "execution_count": null,
   "id": "6d7adae4",
   "metadata": {},
   "outputs": [],
   "source": []
  },
  {
   "cell_type": "code",
   "execution_count": null,
   "id": "1b7eee13",
   "metadata": {},
   "outputs": [],
   "source": []
  },
  {
   "cell_type": "code",
   "execution_count": null,
   "id": "efcb6ab4",
   "metadata": {},
   "outputs": [],
   "source": []
  },
  {
   "cell_type": "code",
   "execution_count": null,
   "id": "fc12b4cc",
   "metadata": {},
   "outputs": [],
   "source": []
  },
  {
   "cell_type": "code",
   "execution_count": null,
   "id": "385b1fe6",
   "metadata": {},
   "outputs": [],
   "source": []
  },
  {
   "cell_type": "code",
   "execution_count": null,
   "id": "0ba36e1a",
   "metadata": {},
   "outputs": [],
   "source": []
  },
  {
   "cell_type": "code",
   "execution_count": null,
   "id": "8023ae58",
   "metadata": {},
   "outputs": [],
   "source": []
  },
  {
   "cell_type": "code",
   "execution_count": null,
   "id": "94c3ef76",
   "metadata": {},
   "outputs": [],
   "source": []
  },
  {
   "cell_type": "code",
   "execution_count": null,
   "id": "2292608c",
   "metadata": {},
   "outputs": [],
   "source": []
  },
  {
   "cell_type": "code",
   "execution_count": null,
   "id": "d3ddf8a2",
   "metadata": {},
   "outputs": [],
   "source": []
  },
  {
   "cell_type": "code",
   "execution_count": null,
   "id": "23897218",
   "metadata": {},
   "outputs": [],
   "source": []
  },
  {
   "cell_type": "code",
   "execution_count": null,
   "id": "15a52a05",
   "metadata": {},
   "outputs": [],
   "source": []
  },
  {
   "cell_type": "code",
   "execution_count": null,
   "id": "baef610e",
   "metadata": {},
   "outputs": [],
   "source": []
  },
  {
   "cell_type": "code",
   "execution_count": null,
   "id": "9efed20c",
   "metadata": {},
   "outputs": [],
   "source": []
  },
  {
   "cell_type": "code",
   "execution_count": null,
   "id": "abeb59c0",
   "metadata": {},
   "outputs": [],
   "source": []
  },
  {
   "cell_type": "code",
   "execution_count": null,
   "id": "f20fddd2",
   "metadata": {},
   "outputs": [],
   "source": []
  },
  {
   "cell_type": "code",
   "execution_count": null,
   "id": "ebef67ac",
   "metadata": {},
   "outputs": [],
   "source": []
  },
  {
   "cell_type": "code",
   "execution_count": null,
   "id": "dbff8fdd",
   "metadata": {},
   "outputs": [],
   "source": []
  },
  {
   "cell_type": "code",
   "execution_count": null,
   "id": "b8d69852",
   "metadata": {},
   "outputs": [],
   "source": []
  },
  {
   "cell_type": "code",
   "execution_count": null,
   "id": "90090077",
   "metadata": {},
   "outputs": [],
   "source": []
  },
  {
   "cell_type": "code",
   "execution_count": null,
   "id": "c431a568",
   "metadata": {},
   "outputs": [],
   "source": []
  },
  {
   "cell_type": "code",
   "execution_count": null,
   "id": "c5c42bdb",
   "metadata": {},
   "outputs": [],
   "source": []
  },
  {
   "cell_type": "code",
   "execution_count": null,
   "id": "a21164a5",
   "metadata": {},
   "outputs": [],
   "source": []
  },
  {
   "cell_type": "code",
   "execution_count": null,
   "id": "868c9d32",
   "metadata": {},
   "outputs": [],
   "source": []
  },
  {
   "cell_type": "code",
   "execution_count": null,
   "id": "a3560047",
   "metadata": {},
   "outputs": [],
   "source": []
  },
  {
   "cell_type": "code",
   "execution_count": null,
   "id": "fadd0c0c",
   "metadata": {},
   "outputs": [],
   "source": []
  },
  {
   "cell_type": "code",
   "execution_count": null,
   "id": "cb03041b",
   "metadata": {},
   "outputs": [],
   "source": []
  },
  {
   "cell_type": "code",
   "execution_count": null,
   "id": "38224770",
   "metadata": {},
   "outputs": [],
   "source": []
  },
  {
   "cell_type": "code",
   "execution_count": null,
   "id": "9b67a4d6",
   "metadata": {},
   "outputs": [],
   "source": []
  },
  {
   "cell_type": "code",
   "execution_count": null,
   "id": "5fbf058d",
   "metadata": {},
   "outputs": [],
   "source": []
  },
  {
   "cell_type": "code",
   "execution_count": null,
   "id": "6499e727",
   "metadata": {},
   "outputs": [],
   "source": []
  },
  {
   "cell_type": "code",
   "execution_count": null,
   "id": "e245d2c7",
   "metadata": {},
   "outputs": [],
   "source": []
  },
  {
   "cell_type": "code",
   "execution_count": null,
   "id": "11349823",
   "metadata": {},
   "outputs": [],
   "source": []
  },
  {
   "cell_type": "code",
   "execution_count": null,
   "id": "0ebd7c6b",
   "metadata": {},
   "outputs": [],
   "source": []
  },
  {
   "cell_type": "code",
   "execution_count": null,
   "id": "ae42e187",
   "metadata": {},
   "outputs": [],
   "source": []
  },
  {
   "cell_type": "code",
   "execution_count": null,
   "id": "c09173b6",
   "metadata": {},
   "outputs": [],
   "source": []
  }
 ],
 "metadata": {
  "kernelspec": {
   "display_name": "Python 3 (ipykernel)",
   "language": "python",
   "name": "python3"
  },
  "language_info": {
   "codemirror_mode": {
    "name": "ipython",
    "version": 3
   },
   "file_extension": ".py",
   "mimetype": "text/x-python",
   "name": "python",
   "nbconvert_exporter": "python",
   "pygments_lexer": "ipython3",
   "version": "3.10.9"
  }
 },
 "nbformat": 4,
 "nbformat_minor": 5
}
