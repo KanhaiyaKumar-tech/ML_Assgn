{
 "cells": [
  {
   "cell_type": "code",
   "execution_count": null,
   "id": "d6c17446",
   "metadata": {},
   "outputs": [],
   "source": []
  },
  {
   "cell_type": "code",
   "execution_count": null,
   "id": "5d11395d",
   "metadata": {},
   "outputs": [],
   "source": [
    "1. Is there any way to combine five different models that have all been trained on the same training\n",
    "data and have all achieved 95 percent precision? If so, how can you go about doing it? If not, what is\n",
    "the reason?\n"
   ]
  },
  {
   "cell_type": "code",
   "execution_count": null,
   "id": "57787d49",
   "metadata": {},
   "outputs": [],
   "source": [
    "1. Yes, it is possible to combine five different models that have achieved 95 percent precision. One way to do this is through ensemble methods such as Voting or Averaging. In the case of classification, a Voting classifier can combine the predictions of multiple models by taking the majority vote or weighted average of their predictions. This can help improve the overall performance and robustness of the ensemble by leveraging the strengths of each individual model.\n",
    "\n"
   ]
  },
  {
   "cell_type": "code",
   "execution_count": null,
   "id": "5c169fd4",
   "metadata": {},
   "outputs": [],
   "source": [
    "2. What&#39;s the difference between hard voting classifiers and soft voting classifiers?\n",
    "\n"
   ]
  },
  {
   "cell_type": "code",
   "execution_count": null,
   "id": "61975619",
   "metadata": {},
   "outputs": [],
   "source": [
    "2. Hard voting classifiers make predictions based on the majority vote of the individual models in the ensemble. The class with the most votes is selected as the final prediction. Soft voting classifiers, on the other hand, take into account the probabilities or confidence scores provided by the individual models. The class probabilities are averaged or weighted to determine the final prediction. Soft voting classifiers can provide more nuanced predictions and are useful when the individual models can estimate class probabilities.\n",
    "\n",
    "\n"
   ]
  },
  {
   "cell_type": "code",
   "execution_count": null,
   "id": "75234a64",
   "metadata": {},
   "outputs": [],
   "source": [
    "3. Is it possible to distribute a bagging ensemble&#39;s training through several servers to speed up the\n",
    "process? Pasting ensembles, boosting ensembles, Random Forests, and stacking ensembles are all\n",
    "options.\n"
   ]
  },
  {
   "cell_type": "code",
   "execution_count": null,
   "id": "a357b80e",
   "metadata": {},
   "outputs": [],
   "source": [
    "3. Yes, it is possible to distribute the training of bagging ensembles (including Pasting ensembles, Random Forests, and stacking ensembles) across several servers to speed up the process. Bagging involves training multiple models on different subsets of the training data, and each model can be trained independently on a separate server. This parallelization can significantly reduce the training time by leveraging the computational power of multiple servers.\n"
   ]
  },
  {
   "cell_type": "code",
   "execution_count": null,
   "id": "2bdb9f29",
   "metadata": {},
   "outputs": [],
   "source": [
    "4. What is the advantage of evaluating out of the bag?\n"
   ]
  },
  {
   "cell_type": "code",
   "execution_count": null,
   "id": "29e9b7cc",
   "metadata": {},
   "outputs": [],
   "source": [
    "4. The advantage of evaluating out-of-the-bag (OOB) samples is that they can be used as an additional validation set without the need for a separate validation set. During the training of a bagging ensemble, each model is trained on a different subset of the training data. The OOB samples are the instances that were not included in the training subset for a particular model. These samples can be used to assess the performance of the ensemble without the need for cross-validation or a separate validation set.\n"
   ]
  },
  {
   "cell_type": "code",
   "execution_count": null,
   "id": "94982c12",
   "metadata": {},
   "outputs": [],
   "source": [
    "\n",
    "5. What distinguishes Extra-Trees from ordinary Random Forests? What good would this extra\n",
    "randomness do? Is it true that Extra-Tree Random Forests are slower or faster than normal Random\n",
    "Forests?"
   ]
  },
  {
   "cell_type": "code",
   "execution_count": null,
   "id": "b3cc39c8",
   "metadata": {},
   "outputs": [],
   "source": [
    "\n",
    "5. Extra-Trees (Extremely Randomized Trees) differ from ordinary Random Forests in the way they create decision trees. In Extra-Trees, instead of searching for the best split points for each feature, random split points are selected within the feature's range. This additional randomness leads to even more diverse trees in the ensemble. The extra randomness can help reduce overfitting and improve generalization. In terms of speed, Extra-Trees can be faster than normal Random Forests because they skip the process of finding the best split points.\n",
    "\n",
    "\n"
   ]
  },
  {
   "cell_type": "code",
   "execution_count": null,
   "id": "5c17f19d",
   "metadata": {},
   "outputs": [],
   "source": [
    "6. Which hyperparameters and how do you tweak if your AdaBoost ensemble underfits the training\n",
    "data?"
   ]
  },
  {
   "cell_type": "code",
   "execution_count": null,
   "id": "96ba81a2",
   "metadata": {},
   "outputs": [],
   "source": [
    "6. If an AdaBoost ensemble underfits the training data, one approach is to increase the complexity of the base models, such as decision trees, by increasing their depth or the number of estimators. Additionally, adjusting the learning rate hyperparameter can also help. Increasing the learning rate allows each model to have a stronger influence on the final ensemble prediction, potentially reducing underfitting.\n"
   ]
  },
  {
   "cell_type": "code",
   "execution_count": null,
   "id": "dea2c2d3",
   "metadata": {},
   "outputs": [],
   "source": []
  },
  {
   "cell_type": "code",
   "execution_count": null,
   "id": "322b1b2f",
   "metadata": {},
   "outputs": [],
   "source": []
  },
  {
   "cell_type": "code",
   "execution_count": null,
   "id": "2471878f",
   "metadata": {},
   "outputs": [],
   "source": [
    "\n",
    "\n",
    "7. Should you raise or decrease the learning rate if your Gradient Boosting ensemble overfits the\n",
    "training set?"
   ]
  },
  {
   "cell_type": "code",
   "execution_count": null,
   "id": "b878a250",
   "metadata": {},
   "outputs": [],
   "source": [
    "7. If a Gradient Boosting ensemble overfits the training set, it is generally advisable to decrease the learning rate. A smaller learning rate reduces the impact of each individual model, making the ensemble more conservative and less prone to overfitting. Lowering the learning rate slows down the learning process but can improve generalization performance by preventing the ensemble from memorizing the training data too closely.\n"
   ]
  },
  {
   "cell_type": "code",
   "execution_count": null,
   "id": "23eb3817",
   "metadata": {},
   "outputs": [],
   "source": []
  },
  {
   "cell_type": "code",
   "execution_count": null,
   "id": "d8df980d",
   "metadata": {},
   "outputs": [],
   "source": []
  },
  {
   "cell_type": "code",
   "execution_count": null,
   "id": "c77bc360",
   "metadata": {},
   "outputs": [],
   "source": []
  },
  {
   "cell_type": "code",
   "execution_count": null,
   "id": "fa5a57c2",
   "metadata": {},
   "outputs": [],
   "source": []
  },
  {
   "cell_type": "code",
   "execution_count": null,
   "id": "b1ae797a",
   "metadata": {},
   "outputs": [],
   "source": []
  },
  {
   "cell_type": "code",
   "execution_count": null,
   "id": "436ca721",
   "metadata": {},
   "outputs": [],
   "source": []
  },
  {
   "cell_type": "code",
   "execution_count": null,
   "id": "3fa8ac6e",
   "metadata": {},
   "outputs": [],
   "source": []
  },
  {
   "cell_type": "code",
   "execution_count": null,
   "id": "645036d2",
   "metadata": {},
   "outputs": [],
   "source": []
  },
  {
   "cell_type": "code",
   "execution_count": null,
   "id": "daeb69f4",
   "metadata": {},
   "outputs": [],
   "source": []
  },
  {
   "cell_type": "code",
   "execution_count": null,
   "id": "696d2ab5",
   "metadata": {},
   "outputs": [],
   "source": []
  },
  {
   "cell_type": "code",
   "execution_count": null,
   "id": "82c46527",
   "metadata": {},
   "outputs": [],
   "source": []
  },
  {
   "cell_type": "code",
   "execution_count": null,
   "id": "133e6792",
   "metadata": {},
   "outputs": [],
   "source": []
  },
  {
   "cell_type": "code",
   "execution_count": null,
   "id": "77eef7f4",
   "metadata": {},
   "outputs": [],
   "source": []
  },
  {
   "cell_type": "code",
   "execution_count": null,
   "id": "7035d3c5",
   "metadata": {},
   "outputs": [],
   "source": []
  },
  {
   "cell_type": "code",
   "execution_count": null,
   "id": "4d02c704",
   "metadata": {},
   "outputs": [],
   "source": []
  },
  {
   "cell_type": "code",
   "execution_count": null,
   "id": "52fc6235",
   "metadata": {},
   "outputs": [],
   "source": []
  },
  {
   "cell_type": "code",
   "execution_count": null,
   "id": "16e3794f",
   "metadata": {},
   "outputs": [],
   "source": []
  },
  {
   "cell_type": "code",
   "execution_count": null,
   "id": "7df87811",
   "metadata": {},
   "outputs": [],
   "source": []
  },
  {
   "cell_type": "code",
   "execution_count": null,
   "id": "6f54a2c1",
   "metadata": {},
   "outputs": [],
   "source": []
  },
  {
   "cell_type": "code",
   "execution_count": null,
   "id": "52a27740",
   "metadata": {},
   "outputs": [],
   "source": []
  },
  {
   "cell_type": "code",
   "execution_count": null,
   "id": "d9079b68",
   "metadata": {},
   "outputs": [],
   "source": []
  },
  {
   "cell_type": "code",
   "execution_count": null,
   "id": "070298da",
   "metadata": {},
   "outputs": [],
   "source": []
  },
  {
   "cell_type": "code",
   "execution_count": null,
   "id": "b78317b4",
   "metadata": {},
   "outputs": [],
   "source": []
  },
  {
   "cell_type": "code",
   "execution_count": null,
   "id": "3c906990",
   "metadata": {},
   "outputs": [],
   "source": []
  }
 ],
 "metadata": {
  "kernelspec": {
   "display_name": "Python 3 (ipykernel)",
   "language": "python",
   "name": "python3"
  },
  "language_info": {
   "codemirror_mode": {
    "name": "ipython",
    "version": 3
   },
   "file_extension": ".py",
   "mimetype": "text/x-python",
   "name": "python",
   "nbconvert_exporter": "python",
   "pygments_lexer": "ipython3",
   "version": "3.10.9"
  }
 },
 "nbformat": 4,
 "nbformat_minor": 5
}
